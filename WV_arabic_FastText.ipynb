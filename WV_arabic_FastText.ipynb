{
 "cells": [
  {
   "cell_type": "code",
   "execution_count": 1,
   "metadata": {
    "scrolled": true
   },
   "outputs": [
    {
     "name": "stderr",
     "output_type": "stream",
     "text": [
      "Using TensorFlow backend.\n"
     ]
    }
   ],
   "source": [
    "from keras.layers import Embedding, Dense, Dropout, Input#, LSTM, Bidirectional\n",
    "from keras.layers import MaxPooling1D, Conv1D, Flatten\n",
    "from keras.preprocessing import sequence#, text\n",
    "from keras.models import Model\n",
    "from keras.utils import np_utils\n",
    "from keras.callbacks import Callback\n",
    "\n",
    "from gensim.models.keyedvectors import KeyedVectors\n",
    "\n",
    "from time import time\n",
    "import pandas as pd\n",
    "import numpy as np\n",
    "import matplotlib.pyplot as plt\n",
    "\n",
    "from sklearn import preprocessing\n",
    "from sklearn.model_selection import train_test_split\n",
    "from sklearn.metrics import (\n",
    "    confusion_matrix as confmat,\n",
    "    classification_report as creport\n",
    ")\n",
    "\n",
    "from utils import *\n",
    "\n",
    "np.random.seed(42)"
   ]
  },
  {
   "cell_type": "markdown",
   "metadata": {},
   "source": [
    "## Language Model and Data"
   ]
  },
  {
   "cell_type": "code",
   "execution_count": 2,
   "metadata": {},
   "outputs": [],
   "source": [
    "algo = 'sg' # or 'cbow'\n",
    "path = './arabic_bins/web_{}_300'.format(algo)\n",
    "#path = './arabic_bins/cc.ar.300.vec'"
   ]
  },
  {
   "cell_type": "code",
   "execution_count": 3,
   "metadata": {
    "scrolled": true
   },
   "outputs": [
    {
     "name": "stdout",
     "output_type": "stream",
     "text": [
      "Dataset splited.\n",
      "Label categories: ['0' '1' '2' '3' '4']\n",
      "Converting data to trainable form...\n",
      "Number of training examples: 89382\n",
      "Number of testing examples: 22346\n"
     ]
    }
   ],
   "source": [
    "# language model\n",
    "WORD_MODEL, _, MAX_FEATURES, EMBED_SIZE = get_init_parameters(path)#, ext='vec')\n",
    "\n",
    "# load data\n",
    "data_paths = ['./data/arabic_dataset_classifiction.csv']\n",
    "x_train, x_test, y_train, y_test, MAX_TEXT_LENGTH = split_datasets(data_paths, test_size=0.2, seed=42)\n",
    "CLASSES_LIST = np.unique(y_train)\n",
    "print('Label categories: ' + str(CLASSES_LIST))\n",
    "\n",
    "# \n",
    "x_train, x_test, y_train, y_test, train_y_cat, word_index = class_str_2_ind(x_train, x_test, \n",
    "                                                                            y_train, y_test,\n",
    "                                                                            CLASSES_LIST, MAX_FEATURES,\n",
    "                                                                            MAX_TEXT_LENGTH)\n",
    "test_cat_y = np_utils.to_categorical(y_test, len(CLASSES_LIST))"
   ]
  },
  {
   "cell_type": "code",
   "execution_count": 4,
   "metadata": {},
   "outputs": [
    {
     "data": {
      "image/png": "[encoded data removed]",
      "text/plain": [
       "<Figure size 720x720 with 1 Axes>"
      ]
     },
     "metadata": {},
     "output_type": "display_data"
    }
   ],
   "source": [
    "LABELS = (\n",
    "    'Culture', 'Events', 'Business', 'Politics', 'Sports'\n",
    ")\n",
    "\n",
    "tmp = np.concatenate((y_train, y_test))\n",
    "unique, counts = np.unique(tmp, return_counts=True)\n",
    "del tmp\n",
    "plt.figure(\"Target Pie\", figsize=(10, 10))\n",
    "plt.title(\"Pie plot of the class frequencies\")\n",
    "plt.pie(counts, labels=LABELS)\n",
    "plt.legend(unique)\n",
    "plt.savefig(\"./img/stats_classes.png\")\n",
    "plt.show();"
   ]
  },
  {
   "cell_type": "markdown",
   "metadata": {},
   "source": [
    "**Try less timesteps**"
   ]
  },
  {
   "cell_type": "code",
   "execution_count": 5,
   "metadata": {},
   "outputs": [
    {
     "name": "stdout",
     "output_type": "stream",
     "text": [
      "Original sequence length : 5049\n"
     ]
    }
   ],
   "source": [
    "# Sequence length\n",
    "print(\"Original sequence length : \"+str(MAX_TEXT_LENGTH))\n",
    "\n",
    "# CHANGE MAX LENGTH (timesteps)\n",
    "MAX_TEXT_LENGTH = 2000"
   ]
  },
  {
   "cell_type": "code",
   "execution_count": 6,
   "metadata": {},
   "outputs": [],
   "source": [
    "def get_model(embedding_weights, word_index, vocab_dim, max_length, print_summary=True):\n",
    "    \"\"\"\n",
    "    DOC\n",
    "    \"\"\"\n",
    "    inp = Input(shape=(max_length,))\n",
    "    model = Embedding(input_dim=len(word_index)+1,\n",
    "                      output_dim=vocab_dim,\n",
    "                      trainable=False,\n",
    "                      weights=[embedding_weights])(inp)\n",
    "\n",
    "    model = Conv1D(filters=32, kernel_size=5, padding='same', activation='relu')(model)\n",
    "    model = MaxPooling1D(pool_size=2)(model)\n",
    "    model = Flatten()(model)\n",
    "    model = Dropout(0.1)(model)\n",
    "    model = Dense(200, activation='relu')(model)\n",
    "    model = Dropout(0.1)(model)\n",
    "    model = Dense(5, activation='softmax')(model)\n",
    "    model = Model(inputs=inp, outputs=model)\n",
    "    \n",
    "    model.compile(loss='categorical_crossentropy', optimizer='sgd', metrics=['accuracy'])\n",
    "    if print_summary:\n",
    "        model.summary()\n",
    "    return model\n",
    "\n",
    "\n",
    "def get_main_model(word_index, WORD_MODEL, EMBED_SIZE, MAX_TEXT_LENGTH):\n",
    "    \"\"\"\n",
    "    DOC\n",
    "    \"\"\"\n",
    "    tmp = get_embedding_matrix(word_index, WORD_MODEL, EMBED_SIZE)\n",
    "    model = get_model(tmp, word_index, EMBED_SIZE, MAX_TEXT_LENGTH, print_summary=True)\n",
    "    return model\n",
    "\n",
    "\n",
    "class TestCallback(Callback):\n",
    "    def __init__(self, test_data):\n",
    "        self.test_data = test_data\n",
    "\n",
    "    def on_epoch_end(self, epoch, logs={}):\n",
    "        x, y = self.test_data\n",
    "        loss, acc = self.model.evaluate(x, y, verbose=0)\n",
    "        print('\\nTesting loss: {}, acc: {}\\n'.format(loss, acc))\n",
    "\n",
    "def train_fit_predict(model, x_train, x_test, y_train, y_test, batch_size, epochs, TestCallback=TestCallback):\n",
    "    \"\"\"\n",
    "    DOC \n",
    "    \"\"\"\n",
    "    history = model.fit(x_train, y_train,\n",
    "                        batch_size=batch_size,\n",
    "                        epochs=epochs, verbose=1,\n",
    "                        validation_data=(x_test, y_test),\n",
    "                        callbacks=[TestCallback((x_test, y_test))])\n",
    "    return history, model"
   ]
  },
  {
   "cell_type": "code",
   "execution_count": 7,
   "metadata": {},
   "outputs": [
    {
     "name": "stdout",
     "output_type": "stream",
     "text": [
      "Building embedding matrix...\n",
      "Embedding matrix built.\n",
      "_________________________________________________________________\n",
      "Layer (type)                 Output Shape              Param #   \n",
      "=================================================================\n",
      "input_1 (InputLayer)         (None, 2000)              0         \n",
      "_________________________________________________________________\n",
      "embedding_1 (Embedding)      (None, 2000, 300)         115239600 \n",
      "_________________________________________________________________\n",
      "conv1d_1 (Conv1D)            (None, 2000, 32)          48032     \n",
      "_________________________________________________________________\n",
      "max_pooling1d_1 (MaxPooling1 (None, 1000, 32)          0         \n",
      "_________________________________________________________________\n",
      "flatten_1 (Flatten)          (None, 32000)             0         \n",
      "_________________________________________________________________\n",
      "dropout_1 (Dropout)          (None, 32000)             0         \n",
      "_________________________________________________________________\n",
      "dense_1 (Dense)              (None, 200)               6400200   \n",
      "_________________________________________________________________\n",
      "dropout_2 (Dropout)          (None, 200)               0         \n",
      "_________________________________________________________________\n",
      "dense_2 (Dense)              (None, 5)                 1005      \n",
      "=================================================================\n",
      "Total params: 121,688,837\n",
      "Trainable params: 6,449,237\n",
      "Non-trainable params: 115,239,600\n",
      "_________________________________________________________________\n"
     ]
    }
   ],
   "source": [
    "model = get_main_model(word_index, WORD_MODEL, EMBED_SIZE, MAX_TEXT_LENGTH)"
   ]
  },
  {
   "cell_type": "code",
   "execution_count": 8,
   "metadata": {},
   "outputs": [],
   "source": [
    "del WORD_MODEL\n",
    "del word_index"
   ]
  },
  {
   "cell_type": "markdown",
   "metadata": {},
   "source": [
    "## Start Learning"
   ]
  },
  {
   "cell_type": "code",
   "execution_count": 9,
   "metadata": {
    "scrolled": true
   },
   "outputs": [
    {
     "name": "stdout",
     "output_type": "stream",
     "text": [
      "Train on 89382 samples, validate on 22346 samples\n",
      "Epoch 1/20\n",
      "89382/89382 [==============================] - 55s 614us/step - loss: 0.2781 - acc: 0.9106 - val_loss: 0.2658 - val_acc: 0.9151\n",
      "\n",
      "Testing loss: 0.2658172140032477, acc: 0.9151078492688437\n",
      "\n",
      "Epoch 2/20\n",
      "89382/89382 [==============================] - 54s 605us/step - loss: 0.1772 - acc: 0.9444 - val_loss: 0.1811 - val_acc: 0.9429\n",
      "\n",
      "Testing loss: 0.18105686609004357, acc: 0.9429428085563412\n",
      "\n",
      "Epoch 3/20\n",
      "89382/89382 [==============================] - 54s 608us/step - loss: 0.1510 - acc: 0.9526 - val_loss: 0.1742 - val_acc: 0.9454\n",
      "\n",
      "Testing loss: 0.17422712602172735, acc: 0.9454488499060234\n",
      "\n",
      "Epoch 4/20\n",
      "89382/89382 [==============================] - 54s 607us/step - loss: 0.1291 - acc: 0.9593 - val_loss: 0.2320 - val_acc: 0.9273\n",
      "\n",
      "Testing loss: 0.23195904402041792, acc: 0.927280050120827\n",
      "\n",
      "Epoch 5/20\n",
      "89382/89382 [==============================] - 54s 608us/step - loss: 0.1087 - acc: 0.9654 - val_loss: 0.1787 - val_acc: 0.9461\n",
      "\n",
      "Testing loss: 0.17868139382738846, acc: 0.9461201109818312\n",
      "\n",
      "Epoch 6/20\n",
      "89382/89382 [==============================] - 54s 608us/step - loss: 0.0884 - acc: 0.9724 - val_loss: 0.1927 - val_acc: 0.9433\n",
      "\n",
      "Testing loss: 0.19268925008772042, acc: 0.9432560637250514\n",
      "\n",
      "Epoch 7/20\n",
      "89382/89382 [==============================] - 54s 607us/step - loss: 0.0715 - acc: 0.9785 - val_loss: 0.1955 - val_acc: 0.9463\n",
      "\n",
      "Testing loss: 0.19551824824730327, acc: 0.9462543631969927\n",
      "\n",
      "Epoch 8/20\n",
      "89382/89382 [==============================] - 54s 606us/step - loss: 0.0574 - acc: 0.9831 - val_loss: 0.2053 - val_acc: 0.9442\n",
      "\n",
      "Testing loss: 0.2052726914728497, acc: 0.9442405799695694\n",
      "\n",
      "Epoch 9/20\n",
      "89382/89382 [==============================] - 54s 606us/step - loss: 0.0470 - acc: 0.9862 - val_loss: 0.2139 - val_acc: 0.9450\n",
      "\n",
      "Testing loss: 0.21394964571551933, acc: 0.9449565917837645\n",
      "\n",
      "Epoch 10/20\n",
      "89382/89382 [==============================] - 54s 608us/step - loss: 0.0385 - acc: 0.9896 - val_loss: 0.2341 - val_acc: 0.9430\n",
      "\n",
      "Testing loss: 0.23409395412773903, acc: 0.9430323100331155\n",
      "\n",
      "Epoch 11/20\n",
      "89382/89382 [==============================] - 54s 608us/step - loss: 0.0329 - acc: 0.9911 - val_loss: 0.2334 - val_acc: 0.9437\n",
      "\n",
      "Testing loss: 0.2334168787781327, acc: 0.9436588203705362\n",
      "\n",
      "Epoch 12/20\n",
      "89382/89382 [==============================] - 54s 605us/step - loss: 0.0282 - acc: 0.9927 - val_loss: 0.2557 - val_acc: 0.9423\n",
      "\n",
      "Testing loss: 0.25574880850739523, acc: 0.9423162982189206\n",
      "\n",
      "Epoch 13/20\n",
      "89382/89382 [==============================] - 54s 606us/step - loss: 0.0262 - acc: 0.9932 - val_loss: 0.2537 - val_acc: 0.9433\n",
      "\n",
      "Testing loss: 0.25369715948606153, acc: 0.9433455652018258\n",
      "\n",
      "Epoch 14/20\n",
      "89382/89382 [==============================] - 54s 607us/step - loss: 0.0231 - acc: 0.9945 - val_loss: 0.2716 - val_acc: 0.9423\n",
      "\n",
      "Testing loss: 0.2716251005871621, acc: 0.9422715474805334\n",
      "\n",
      "Epoch 15/20\n",
      "89382/89382 [==============================] - 54s 606us/step - loss: 0.0210 - acc: 0.9950 - val_loss: 0.2702 - val_acc: 0.9419\n",
      "\n",
      "Testing loss: 0.27017628733376553, acc: 0.941913541573436\n",
      "\n",
      "Epoch 16/20\n",
      "89382/89382 [==============================] - 54s 606us/step - loss: 0.0204 - acc: 0.9951 - val_loss: 0.2701 - val_acc: 0.9426\n",
      "\n",
      "Testing loss: 0.27012941140481944, acc: 0.9426295533876309\n",
      "\n",
      "Epoch 17/20\n",
      "89382/89382 [==============================] - 54s 607us/step - loss: 0.0197 - acc: 0.9952 - val_loss: 0.2741 - val_acc: 0.9426\n",
      "\n",
      "Testing loss: 0.2740602258525332, acc: 0.9426295533876309\n",
      "\n",
      "Epoch 18/20\n",
      "89382/89382 [==============================] - 54s 607us/step - loss: 0.0188 - acc: 0.9957 - val_loss: 0.2871 - val_acc: 0.9435\n",
      "\n",
      "Testing loss: 0.2871165765361033, acc: 0.9435245681553746\n",
      "\n",
      "Epoch 19/20\n",
      "89382/89382 [==============================] - 54s 606us/step - loss: 0.0176 - acc: 0.9958 - val_loss: 0.3021 - val_acc: 0.9425\n",
      "\n",
      "Testing loss: 0.3020516342412995, acc: 0.9425400519108565\n",
      "\n",
      "Epoch 20/20\n",
      "89382/89382 [==============================] - 54s 606us/step - loss: 0.0172 - acc: 0.9958 - val_loss: 0.3054 - val_acc: 0.9425\n",
      "\n",
      "Testing loss: 0.3053504228721171, acc: 0.9424505504340822\n",
      "\n",
      "Took : 1137.05 (s)\n"
     ]
    }
   ],
   "source": [
    "time_start = time()\n",
    "history, model = train_fit_predict(model,\n",
    "                               x_train[:, :MAX_TEXT_LENGTH],\n",
    "                               x_test[:, :MAX_TEXT_LENGTH],\n",
    "                               train_y_cat, test_cat_y,\n",
    "                               batch_size=10, epochs=20)\n",
    "time_start = time() - time_start\n",
    "\n",
    "print(\"Took : \"+str(np.round(time_start, 2))+\" (s)\") "
   ]
  },
  {
   "cell_type": "code",
   "execution_count": 10,
   "metadata": {
    "scrolled": true
   },
   "outputs": [
    {
     "data": {
      "text/plain": [
       "dict_keys(['val_loss', 'val_acc', 'acc', 'loss'])"
      ]
     },
     "execution_count": 10,
     "metadata": {},
     "output_type": "execute_result"
    }
   ],
   "source": [
    "history.history.keys()"
   ]
  },
  {
   "cell_type": "code",
   "execution_count": 11,
   "metadata": {},
   "outputs": [
    {
     "name": "stdout",
     "output_type": "stream",
     "text": [
      "22346/22346 [==============================] - 3s 120us/step\n"
     ]
    },
    {
     "data": {
      "text/plain": [
       "[0.3053504228721171, 0.9424505504340822]"
      ]
     },
     "execution_count": 11,
     "metadata": {},
     "output_type": "execute_result"
    }
   ],
   "source": [
    "model.evaluate(x_test[:, :MAX_TEXT_LENGTH], test_cat_y)"
   ]
  },
  {
   "cell_type": "code",
   "execution_count": 12,
   "metadata": {},
   "outputs": [
    {
     "name": "stdout",
     "output_type": "stream",
     "text": [
      "Confusion Matrix :\n",
      "\n",
      " [[2553   18   43  109   46]\n",
      " [  15 3196   25   87   18]\n",
      " [  27   30 2497  283   52]\n",
      " [  76  112  200 3724   57]\n",
      " [  23   20   15   30 9090]]\n",
      "\n",
      "              precision    recall  f1-score   support\n",
      "\n",
      "           0       0.95      0.92      0.93      2769\n",
      "           1       0.95      0.96      0.95      3341\n",
      "           2       0.90      0.86      0.88      2889\n",
      "           3       0.88      0.89      0.89      4169\n",
      "           4       0.98      0.99      0.99      9178\n",
      "\n",
      "   micro avg       0.94      0.94      0.94     22346\n",
      "   macro avg       0.93      0.93      0.93     22346\n",
      "weighted avg       0.94      0.94      0.94     22346\n",
      "\n"
     ]
    }
   ],
   "source": [
    "y_pred = np.argmax(model.predict(x_test[:, :MAX_TEXT_LENGTH]), axis=1)\n",
    "# y_pred = np_utils.to_categorical(np.argmax(y_pred, axis=1), len(CLASSES_LIST))\n",
    "\n",
    "cm = confmat(np.argmax(test_cat_y, axis=1), y_pred)\n",
    "\n",
    "print(\"Confusion Matrix :\\n\\n {}\\n\".format(cm))\n",
    "print(creport(np.argmax(test_cat_y, axis=1), y_pred))"
   ]
  },
  {
   "cell_type": "markdown",
   "metadata": {},
   "source": [
    "**Early Stopping**"
   ]
  },
  {
   "cell_type": "code",
   "execution_count": 13,
   "metadata": {
    "scrolled": false
   },
   "outputs": [
    {
     "name": "stdout",
     "output_type": "stream",
     "text": [
      "Accuracy on train : 95.26 %\n",
      "Accuracy on test : 94.54 %\n",
      "Loss on train : 15.1\n",
      "Loss on test : 17.42\n"
     ]
    }
   ],
   "source": [
    "n = np.argmin(history.history['val_loss'])\n",
    "\n",
    "print(\"Accuracy on train : {} %\".format(np.round(history.history['acc'][n]*100, 2)))\n",
    "print(\"Accuracy on test : {} %\".format(np.round(history.history['val_acc'][n]*100, 2)))\n",
    "print(\"Loss on train : {}\".format(np.round(history.history['loss'][n]*100, 2)))\n",
    "print(\"Loss on test : {}\".format(np.round(history.history['val_loss'][n]*100, 2)))"
   ]
  },
  {
   "cell_type": "code",
   "execution_count": 15,
   "metadata": {
    "scrolled": false
   },
   "outputs": [
    {
     "data": {
      "image/png": "[encoded data removed]",
      "text/plain": [
       "<Figure size 1152x576 with 1 Axes>"
      ]
     },
     "metadata": {
      "needs_background": "light"
     },
     "output_type": "display_data"
    }
   ],
   "source": [
    "plt.figure(\"Loss Plot\", figsize=(16, 8))\n",
    "plt.plot(range(1, len(history.history['loss'])+1), history.history['loss'], label=\"train loss\")\n",
    "plt.plot(range(1, len(history.history['val_loss'])+1), history.history['val_loss'], label=\"test loss\")\n",
    "plt.plot(n+1,history.history[\"val_loss\"][n],\"r*\", label=\"Lowest loss\")\n",
    "plt.legend()\n",
    "plt.title(\"Learning Curve\")\n",
    "plt.ylabel(\"loss (cross_entropy)\")\n",
    "plt.xlabel(\"epochs\")\n",
    "#plt.savefig(\"./img/loss_500_2000_sg_true_40.png\")\n",
    "plt.show();"
   ]
  },
  {
   "cell_type": "code",
   "execution_count": 16,
   "metadata": {},
   "outputs": [
    {
     "data": {
      "image/png": "[encoded data removed]",
      "text/plain": [
       "<Figure size 1152x576 with 1 Axes>"
      ]
     },
     "metadata": {
      "needs_background": "light"
     },
     "output_type": "display_data"
    }
   ],
   "source": [
    "plt.figure(\"Accuracy Plot\", figsize=(16, 8))\n",
    "plt.plot(range(1, len(history.history['acc'])+1), history.history['acc'], label=\"train accuracy\")\n",
    "plt.plot(range(1, len(history.history['val_acc'])+1), history.history['val_acc'], label=\"test accuracy\")\n",
    "plt.plot(n+1,history.history[\"val_acc\"][n],\"r*\", label=\"Opt. Acc. (csp. Lowest loss)\")\n",
    "plt.legend()\n",
    "plt.title(\"Accuracy Curve\")\n",
    "plt.ylabel(\"accuracy\")\n",
    "plt.xlabel(\"epochs\")\n",
    "#plt.savefig(\"./img/acc_500_2000_sg_true_40.png\")\n",
    "plt.show()"
   ]
  },
  {
   "cell_type": "markdown",
   "metadata": {},
   "source": [
    "## Save results"
   ]
  },
  {
   "cell_type": "code",
   "execution_count": 14,
   "metadata": {
    "scrolled": true
   },
   "outputs": [],
   "source": [
    "import shelve\n",
    "\n",
    "tmp = shelve.open('fasttext-true')\n",
    "#tmp['results'] = history.history\n",
    "tmp.close()"
   ]
  },
  {
   "cell_type": "markdown",
   "metadata": {},
   "source": [
    "## Recompute results"
   ]
  },
  {
   "cell_type": "code",
   "execution_count": 38,
   "metadata": {},
   "outputs": [],
   "source": [
    "import shelve\n",
    "\n",
    "tmp_list = []\n",
    "tmp = shelve.open('fasttext')\n",
    "for i in range(1,11):\n",
    "    histo_tmp = tmp[str(i)]\n",
    "    n = np.argmin(histo_tmp['val_loss'])\n",
    "    tmp_list.append(np.round(histo_tmp['acc'][n]*100, 2))\n",
    "tmp.close()"
   ]
  },
  {
   "cell_type": "code",
   "execution_count": 39,
   "metadata": {},
   "outputs": [
    {
     "data": {
      "text/plain": [
       "0.009165151389911407"
      ]
     },
     "execution_count": 39,
     "metadata": {},
     "output_type": "execute_result"
    }
   ],
   "source": [
    "np.std(tmp_list)"
   ]
  },
  {
   "cell_type": "code",
   "execution_count": null,
   "metadata": {},
   "outputs": [],
   "source": []
  }
 ],
 "metadata": {
  "kernelspec": {
   "display_name": "Python 3",
   "language": "python",
   "name": "python3"
  },
  "language_info": {
   "codemirror_mode": {
    "name": "ipython",
    "version": 3
   },
   "file_extension": ".py",
   "mimetype": "text/x-python",
   "name": "python",
   "nbconvert_exporter": "python",
   "pygments_lexer": "ipython3",
   "version": "3.5.3"
  }
 },
 "nbformat": 4,
 "nbformat_minor": 2
}
