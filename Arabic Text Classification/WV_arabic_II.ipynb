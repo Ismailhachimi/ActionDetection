{
 "cells": [
  {
   "cell_type": "code",
   "execution_count": 1,
   "metadata": {},
   "outputs": [
    {
     "name": "stderr",
     "output_type": "stream",
     "text": [
      "Using TensorFlow backend.\n"
     ]
    }
   ],
   "source": [
    "from keras.layers import Embedding, Dense, LSTM, Dropout, Input, Bidirectional\n",
    "from keras.layers import GRU, MaxPooling1D, Conv1D, Flatten\n",
    "from keras.preprocessing import text, sequence\n",
    "from keras.models import Model\n",
    "from keras.utils import np_utils\n",
    "from keras.callbacks import Callback\n",
    "\n",
    "from gensim.models.keyedvectors import KeyedVectors\n",
    "\n",
    "import pandas as pd\n",
    "import numpy as np\n",
    "\n",
    "from sklearn import preprocessing\n",
    "from sklearn.model_selection import train_test_split\n",
    "\n",
    "from utils import *"
   ]
  },
  {
   "cell_type": "code",
   "execution_count": 2,
   "metadata": {},
   "outputs": [
    {
     "name": "stdout",
     "output_type": "stream",
     "text": [
      "Dataset splited.\n",
      "Label categories: ['0' '1' '2' '3' '4']\n",
      "Converting data to trainable form...\n",
      "Number of training examples: 100555\n",
      "Number of testing examples: 11173\n"
     ]
    }
   ],
   "source": [
    "# language model\n",
    "WORD_MODEL, _, MAX_FEATURES, EMBED_SIZE = get_init_parameters('./arabic_bins/web_cbow_300')\n",
    "\n",
    "# load data\n",
    "data_paths = ['arabic_dataset_classifiction.csv']\n",
    "x_train, x_test, y_train, y_test, MAX_TEXT_LENGTH = split_datasets(data_paths, test_size=0.1)\n",
    "CLASSES_LIST = np.unique(y_train)\n",
    "print('Label categories: ' + str(CLASSES_LIST))\n",
    "\n",
    "# \n",
    "x_train, x_test, y_train, y_test, train_y_cat, word_index = class_str_2_ind(x_train, x_test, \n",
    "                                                                            y_train, y_test,\n",
    "                                                                            CLASSES_LIST, MAX_FEATURES,\n",
    "                                                                            MAX_TEXT_LENGTH)"
   ]
  },
  {
   "cell_type": "code",
   "execution_count": 3,
   "metadata": {},
   "outputs": [],
   "source": [
    "test_cat_y = np_utils.to_categorical(y_test, len(CLASSES_LIST))"
   ]
  },
  {
   "cell_type": "markdown",
   "metadata": {},
   "source": [
    "Try less timesteps"
   ]
  },
  {
   "cell_type": "code",
   "execution_count": 4,
   "metadata": {},
   "outputs": [
    {
     "data": {
      "text/plain": [
       "5049"
      ]
     },
     "execution_count": 4,
     "metadata": {},
     "output_type": "execute_result"
    }
   ],
   "source": [
    "MAX_TEXT_LENGTH"
   ]
  },
  {
   "cell_type": "code",
   "execution_count": 5,
   "metadata": {},
   "outputs": [],
   "source": [
    "# CHANGE MAX LENGTH (timesteps)\n",
    "MAX_TEXT_LENGTH = 2000"
   ]
  },
  {
   "cell_type": "code",
   "execution_count": 6,
   "metadata": {},
   "outputs": [],
   "source": [
    "def get_model(embedding_weights, word_index, vocab_dim, max_length, print_summary=True):\n",
    "    inp = Input(shape=(max_length,))\n",
    "    model = Embedding(input_dim=len(word_index)+1,\n",
    "                      output_dim=vocab_dim,\n",
    "                      trainable=False,\n",
    "                      weights=[embedding_weights])(inp)\n",
    "\n",
    "    model = Conv1D(filters=32, kernel_size=5, padding='same', activation='relu')(model)\n",
    "    model = MaxPooling1D(pool_size=2)(model)\n",
    "    model = Flatten()(model)\n",
    "    model = Dropout(0.1)(model)\n",
    "    model = Dense(200, activation='relu')(model)\n",
    "    model = Dropout(0.1)(model)\n",
    "    model = Dense(5, activation='softmax')(model)\n",
    "    model = Model(inputs=inp, outputs=model)\n",
    "    \n",
    "    model.compile(loss='categorical_crossentropy', optimizer='sgd', metrics=['accuracy'])\n",
    "    if print_summary:\n",
    "        model.summary()\n",
    "    return model\n",
    "\n",
    "\n",
    "def get_main_model(word_index, WORD_MODEL, EMBED_SIZE, MAX_TEXT_LENGTH):\n",
    "    tmp = get_embedding_matrix(word_index, WORD_MODEL, EMBED_SIZE)\n",
    "    model = get_model(tmp, word_index, EMBED_SIZE, MAX_TEXT_LENGTH, print_summary=True)\n",
    "    return model\n",
    "\n",
    "\n",
    "class TestCallback(Callback):\n",
    "    def __init__(self, test_data):\n",
    "        self.test_data = test_data\n",
    "\n",
    "    def on_epoch_end(self, epoch, logs={}):\n",
    "        x, y = self.test_data\n",
    "        loss, acc = self.model.evaluate(x, y, verbose=0)\n",
    "        print('\\nTesting loss: {}, acc: {}\\n'.format(loss, acc))\n",
    "\n",
    "def train_fit_predict(model, x_train, x_test, y_train, y_test, batch_size, epochs, TestCallback=TestCallback):\n",
    "    history = model.fit(x_train, y_train,\n",
    "                        batch_size=batch_size,\n",
    "                        epochs=epochs, verbose=1,\n",
    "                        validation_data=(x_test, y_test))\n",
    "                        #callbacks=[TestCallback((x_test, y_test))])\n",
    "    #score = model.predict(x_test)\n",
    "    #return history, score, model\n",
    "    return history, model"
   ]
  },
  {
   "cell_type": "code",
   "execution_count": 7,
   "metadata": {},
   "outputs": [
    {
     "name": "stdout",
     "output_type": "stream",
     "text": [
      "Building embedding matrix...\n",
      "Embedding matrix built.\n",
      "_________________________________________________________________\n",
      "Layer (type)                 Output Shape              Param #   \n",
      "=================================================================\n",
      "input_1 (InputLayer)         (None, 2000)              0         \n",
      "_________________________________________________________________\n",
      "embedding_1 (Embedding)      (None, 2000, 300)         121316700 \n",
      "_________________________________________________________________\n",
      "conv1d_1 (Conv1D)            (None, 2000, 32)          48032     \n",
      "_________________________________________________________________\n",
      "max_pooling1d_1 (MaxPooling1 (None, 1000, 32)          0         \n",
      "_________________________________________________________________\n",
      "flatten_1 (Flatten)          (None, 32000)             0         \n",
      "_________________________________________________________________\n",
      "dropout_1 (Dropout)          (None, 32000)             0         \n",
      "_________________________________________________________________\n",
      "dense_1 (Dense)              (None, 200)               6400200   \n",
      "_________________________________________________________________\n",
      "dropout_2 (Dropout)          (None, 200)               0         \n",
      "_________________________________________________________________\n",
      "dense_2 (Dense)              (None, 5)                 1005      \n",
      "=================================================================\n",
      "Total params: 127,765,937\n",
      "Trainable params: 6,449,237\n",
      "Non-trainable params: 121,316,700\n",
      "_________________________________________________________________\n"
     ]
    }
   ],
   "source": [
    "model = get_main_model(word_index, WORD_MODEL, EMBED_SIZE, MAX_TEXT_LENGTH)"
   ]
  },
  {
   "cell_type": "code",
   "execution_count": null,
   "metadata": {},
   "outputs": [],
   "source": [
    "del WORD_MODEL\n",
    "del word_index"
   ]
  },
  {
   "cell_type": "code",
   "execution_count": 8,
   "metadata": {
    "scrolled": true
   },
   "outputs": [
    {
     "name": "stdout",
     "output_type": "stream",
     "text": [
      "Train on 100555 samples, validate on 11173 samples\n",
      "Epoch 1/100\n",
      "100555/100555 [==============================] - 18s 181us/step - loss: 0.4170 - acc: 0.8640 - val_loss: 0.2161 - val_acc: 0.9307\n",
      "Epoch 2/100\n",
      "100555/100555 [==============================] - 17s 173us/step - loss: 0.2014 - acc: 0.9368 - val_loss: 0.1935 - val_acc: 0.9384\n",
      "Epoch 3/100\n",
      "100555/100555 [==============================] - 17s 174us/step - loss: 0.1687 - acc: 0.9466 - val_loss: 0.2002 - val_acc: 0.9348\n",
      "Epoch 4/100\n",
      "100555/100555 [==============================] - 17s 174us/step - loss: 0.1464 - acc: 0.9539 - val_loss: 0.1866 - val_acc: 0.9390\n",
      "Epoch 5/100\n",
      "100555/100555 [==============================] - 18s 174us/step - loss: 0.1291 - acc: 0.9596 - val_loss: 0.1823 - val_acc: 0.9425\n",
      "Epoch 6/100\n",
      "100555/100555 [==============================] - 18s 174us/step - loss: 0.1131 - acc: 0.9644 - val_loss: 0.1918 - val_acc: 0.9400\n",
      "Epoch 7/100\n",
      "100555/100555 [==============================] - 18s 175us/step - loss: 0.0993 - acc: 0.9691 - val_loss: 0.1918 - val_acc: 0.9421\n",
      "Epoch 8/100\n",
      "100555/100555 [==============================] - 18s 175us/step - loss: 0.0867 - acc: 0.9734 - val_loss: 0.1961 - val_acc: 0.9431\n",
      "Epoch 9/100\n",
      "100555/100555 [==============================] - 18s 175us/step - loss: 0.0755 - acc: 0.9775 - val_loss: 0.2003 - val_acc: 0.9416\n",
      "Epoch 10/100\n",
      "100555/100555 [==============================] - 18s 174us/step - loss: 0.0676 - acc: 0.9801 - val_loss: 0.2035 - val_acc: 0.9426\n",
      "Epoch 11/100\n",
      "100555/100555 [==============================] - 18s 176us/step - loss: 0.0596 - acc: 0.9826 - val_loss: 0.2110 - val_acc: 0.9401\n",
      "Epoch 12/100\n",
      "100555/100555 [==============================] - 18s 176us/step - loss: 0.0529 - acc: 0.9849 - val_loss: 0.2195 - val_acc: 0.9416\n",
      "Epoch 13/100\n",
      "100555/100555 [==============================] - 18s 174us/step - loss: 0.0491 - acc: 0.9860 - val_loss: 0.2200 - val_acc: 0.9417\n",
      "Epoch 14/100\n",
      "100555/100555 [==============================] - 17s 168us/step - loss: 0.0426 - acc: 0.9885 - val_loss: 0.2333 - val_acc: 0.9395\n",
      "Epoch 15/100\n",
      "100555/100555 [==============================] - 17s 171us/step - loss: 0.0397 - acc: 0.9894 - val_loss: 0.2288 - val_acc: 0.9426\n",
      "Epoch 16/100\n",
      "100555/100555 [==============================] - 18s 176us/step - loss: 0.0360 - acc: 0.9904 - val_loss: 0.2448 - val_acc: 0.9399\n",
      "Epoch 17/100\n",
      "100555/100555 [==============================] - 18s 175us/step - loss: 0.0334 - acc: 0.9913 - val_loss: 0.2523 - val_acc: 0.9401\n",
      "Epoch 18/100\n",
      "100555/100555 [==============================] - 18s 174us/step - loss: 0.0313 - acc: 0.9920 - val_loss: 0.2552 - val_acc: 0.9415\n",
      "Epoch 19/100\n",
      "100555/100555 [==============================] - 18s 176us/step - loss: 0.0302 - acc: 0.9921 - val_loss: 0.2590 - val_acc: 0.9408\n",
      "Epoch 20/100\n",
      "100555/100555 [==============================] - 18s 176us/step - loss: 0.0279 - acc: 0.9933 - val_loss: 0.2747 - val_acc: 0.9382\n",
      "Epoch 21/100\n",
      "100555/100555 [==============================] - 18s 176us/step - loss: 0.0266 - acc: 0.9935 - val_loss: 0.2885 - val_acc: 0.9370\n",
      "Epoch 22/100\n",
      "100555/100555 [==============================] - 18s 175us/step - loss: 0.0259 - acc: 0.9935 - val_loss: 0.2702 - val_acc: 0.9416\n",
      "Epoch 23/100\n",
      "100555/100555 [==============================] - 18s 176us/step - loss: 0.0246 - acc: 0.9939 - val_loss: 0.2752 - val_acc: 0.9418\n",
      "Epoch 24/100\n",
      "100555/100555 [==============================] - 18s 175us/step - loss: 0.0233 - acc: 0.9945 - val_loss: 0.2773 - val_acc: 0.9399\n",
      "Epoch 25/100\n",
      "100555/100555 [==============================] - 18s 175us/step - loss: 0.0231 - acc: 0.9944 - val_loss: 0.2812 - val_acc: 0.9397\n",
      "Epoch 26/100\n",
      "100555/100555 [==============================] - 18s 182us/step - loss: 0.0222 - acc: 0.9948 - val_loss: 0.2763 - val_acc: 0.9397\n",
      "Epoch 27/100\n",
      "100555/100555 [==============================] - 18s 181us/step - loss: 0.0215 - acc: 0.9950 - val_loss: 0.2860 - val_acc: 0.9399\n",
      "Epoch 28/100\n",
      "100555/100555 [==============================] - 18s 181us/step - loss: 0.0207 - acc: 0.9953 - val_loss: 0.2984 - val_acc: 0.9409\n",
      "Epoch 29/100\n",
      "100555/100555 [==============================] - 18s 182us/step - loss: 0.0205 - acc: 0.9953 - val_loss: 0.2885 - val_acc: 0.9423\n",
      "Epoch 30/100\n",
      "100555/100555 [==============================] - 18s 180us/step - loss: 0.0199 - acc: 0.9953 - val_loss: 0.2984 - val_acc: 0.9426\n",
      "Epoch 31/100\n",
      "100555/100555 [==============================] - 18s 180us/step - loss: 0.0196 - acc: 0.9953 - val_loss: 0.2943 - val_acc: 0.9425\n",
      "Epoch 32/100\n",
      "100555/100555 [==============================] - 18s 180us/step - loss: 0.0190 - acc: 0.9956 - val_loss: 0.3024 - val_acc: 0.9420\n",
      "Epoch 33/100\n",
      "100555/100555 [==============================] - 18s 179us/step - loss: 0.0195 - acc: 0.9952 - val_loss: 0.2928 - val_acc: 0.9407\n",
      "Epoch 34/100\n",
      "100555/100555 [==============================] - 18s 181us/step - loss: 0.0186 - acc: 0.9956 - val_loss: 0.3059 - val_acc: 0.9415\n",
      "Epoch 35/100\n",
      "100555/100555 [==============================] - 18s 181us/step - loss: 0.0182 - acc: 0.9957 - val_loss: 0.2996 - val_acc: 0.9408\n",
      "Epoch 36/100\n",
      "100555/100555 [==============================] - 18s 180us/step - loss: 0.0176 - acc: 0.9961 - val_loss: 0.3120 - val_acc: 0.9410\n",
      "Epoch 37/100\n",
      "100555/100555 [==============================] - 18s 181us/step - loss: 0.0178 - acc: 0.9960 - val_loss: 0.3084 - val_acc: 0.9418\n",
      "Epoch 38/100\n",
      "100555/100555 [==============================] - 18s 182us/step - loss: 0.0172 - acc: 0.9962 - val_loss: 0.3093 - val_acc: 0.9413\n",
      "Epoch 39/100\n",
      "100555/100555 [==============================] - 18s 181us/step - loss: 0.0174 - acc: 0.9961 - val_loss: 0.3063 - val_acc: 0.9418\n",
      "Epoch 40/100\n",
      "100555/100555 [==============================] - 18s 180us/step - loss: 0.0173 - acc: 0.9960 - val_loss: 0.3079 - val_acc: 0.9409\n",
      "Epoch 41/100\n",
      "100555/100555 [==============================] - 18s 180us/step - loss: 0.0175 - acc: 0.9959 - val_loss: 0.3155 - val_acc: 0.9410\n",
      "Epoch 42/100\n",
      "100555/100555 [==============================] - 18s 182us/step - loss: 0.0167 - acc: 0.9962 - val_loss: 0.3136 - val_acc: 0.9407\n",
      "Epoch 43/100\n",
      "100555/100555 [==============================] - 18s 181us/step - loss: 0.0166 - acc: 0.9961 - val_loss: 0.3176 - val_acc: 0.9413\n",
      "Epoch 44/100\n",
      "100555/100555 [==============================] - 18s 181us/step - loss: 0.0163 - acc: 0.9964 - val_loss: 0.3196 - val_acc: 0.9404\n",
      "Epoch 45/100\n",
      "100555/100555 [==============================] - 18s 181us/step - loss: 0.0164 - acc: 0.9962 - val_loss: 0.3136 - val_acc: 0.9408\n",
      "Epoch 46/100\n",
      "100555/100555 [==============================] - 18s 181us/step - loss: 0.0160 - acc: 0.9963 - val_loss: 0.3157 - val_acc: 0.9410\n",
      "Epoch 47/100\n",
      "100555/100555 [==============================] - 18s 182us/step - loss: 0.0163 - acc: 0.9962 - val_loss: 0.3309 - val_acc: 0.9409\n",
      "Epoch 48/100\n",
      "100555/100555 [==============================] - 18s 179us/step - loss: 0.0159 - acc: 0.9965 - val_loss: 0.3233 - val_acc: 0.9417\n",
      "Epoch 49/100\n",
      "100555/100555 [==============================] - 18s 181us/step - loss: 0.0157 - acc: 0.9964 - val_loss: 0.3239 - val_acc: 0.9410\n",
      "Epoch 50/100\n",
      "100555/100555 [==============================] - 18s 182us/step - loss: 0.0154 - acc: 0.9966 - val_loss: 0.3250 - val_acc: 0.9417\n",
      "Epoch 51/100\n",
      "100555/100555 [==============================] - 18s 181us/step - loss: 0.0157 - acc: 0.9963 - val_loss: 0.3282 - val_acc: 0.9417\n",
      "Epoch 52/100\n",
      "100555/100555 [==============================] - 18s 180us/step - loss: 0.0154 - acc: 0.9965 - val_loss: 0.3378 - val_acc: 0.9406\n",
      "Epoch 53/100\n",
      "100555/100555 [==============================] - 18s 182us/step - loss: 0.0155 - acc: 0.9964 - val_loss: 0.3340 - val_acc: 0.9400\n",
      "Epoch 54/100\n",
      "100555/100555 [==============================] - 18s 181us/step - loss: 0.0152 - acc: 0.9965 - val_loss: 0.3251 - val_acc: 0.9405\n",
      "Epoch 55/100\n",
      "100555/100555 [==============================] - 18s 181us/step - loss: 0.0148 - acc: 0.9967 - val_loss: 0.3392 - val_acc: 0.9414\n",
      "Epoch 56/100\n",
      "100555/100555 [==============================] - 18s 182us/step - loss: 0.0147 - acc: 0.9966 - val_loss: 0.3297 - val_acc: 0.9414\n",
      "Epoch 57/100\n",
      "100555/100555 [==============================] - 18s 181us/step - loss: 0.0147 - acc: 0.9968 - val_loss: 0.3359 - val_acc: 0.9416\n"
     ]
    },
    {
     "name": "stdout",
     "output_type": "stream",
     "text": [
      "Epoch 58/100\n",
      "100555/100555 [==============================] - 18s 179us/step - loss: 0.0150 - acc: 0.9965 - val_loss: 0.3325 - val_acc: 0.9416\n",
      "Epoch 59/100\n",
      "100555/100555 [==============================] - 18s 180us/step - loss: 0.0147 - acc: 0.9967 - val_loss: 0.3349 - val_acc: 0.9399\n",
      "Epoch 60/100\n",
      "100555/100555 [==============================] - 18s 181us/step - loss: 0.0146 - acc: 0.9966 - val_loss: 0.3323 - val_acc: 0.9408\n",
      "Epoch 61/100\n",
      "100555/100555 [==============================] - 18s 181us/step - loss: 0.0146 - acc: 0.9967 - val_loss: 0.3333 - val_acc: 0.9399\n",
      "Epoch 62/100\n",
      "100555/100555 [==============================] - 18s 182us/step - loss: 0.0147 - acc: 0.9967 - val_loss: 0.3343 - val_acc: 0.9399\n",
      "Epoch 63/100\n",
      "100555/100555 [==============================] - 18s 181us/step - loss: 0.0147 - acc: 0.9966 - val_loss: 0.3480 - val_acc: 0.9410\n",
      "Epoch 64/100\n",
      "100555/100555 [==============================] - 18s 181us/step - loss: 0.0147 - acc: 0.9965 - val_loss: 0.3426 - val_acc: 0.9407\n",
      "Epoch 65/100\n",
      "100555/100555 [==============================] - 18s 181us/step - loss: 0.0146 - acc: 0.9967 - val_loss: 0.3394 - val_acc: 0.9403\n",
      "Epoch 66/100\n",
      "100555/100555 [==============================] - 18s 181us/step - loss: 0.0142 - acc: 0.9968 - val_loss: 0.3440 - val_acc: 0.9407\n",
      "Epoch 67/100\n",
      "100555/100555 [==============================] - 18s 181us/step - loss: 0.0140 - acc: 0.9968 - val_loss: 0.3486 - val_acc: 0.9403\n",
      "Epoch 68/100\n",
      "100555/100555 [==============================] - 18s 180us/step - loss: 0.0144 - acc: 0.9967 - val_loss: 0.3422 - val_acc: 0.9397\n",
      "Epoch 69/100\n",
      "100555/100555 [==============================] - 18s 181us/step - loss: 0.0143 - acc: 0.9967 - val_loss: 0.3440 - val_acc: 0.9412\n",
      "Epoch 70/100\n",
      "100555/100555 [==============================] - 18s 182us/step - loss: 0.0144 - acc: 0.9967 - val_loss: 0.3477 - val_acc: 0.9409\n",
      "Epoch 71/100\n",
      "100555/100555 [==============================] - 18s 182us/step - loss: 0.0142 - acc: 0.9968 - val_loss: 0.3352 - val_acc: 0.9403\n",
      "Epoch 72/100\n",
      "100555/100555 [==============================] - 18s 180us/step - loss: 0.0139 - acc: 0.9968 - val_loss: 0.3531 - val_acc: 0.9407\n",
      "Epoch 73/100\n",
      "100555/100555 [==============================] - 18s 181us/step - loss: 0.0142 - acc: 0.9966 - val_loss: 0.3439 - val_acc: 0.9411\n",
      "Epoch 74/100\n",
      "100555/100555 [==============================] - 18s 181us/step - loss: 0.0141 - acc: 0.9967 - val_loss: 0.3417 - val_acc: 0.9424\n",
      "Epoch 75/100\n",
      "100555/100555 [==============================] - 18s 181us/step - loss: 0.0138 - acc: 0.9969 - val_loss: 0.3454 - val_acc: 0.9416\n",
      "Epoch 76/100\n",
      "100555/100555 [==============================] - 18s 182us/step - loss: 0.0139 - acc: 0.9968 - val_loss: 0.3407 - val_acc: 0.9432\n",
      "Epoch 77/100\n",
      "100555/100555 [==============================] - 18s 181us/step - loss: 0.0140 - acc: 0.9967 - val_loss: 0.3442 - val_acc: 0.9425\n",
      "Epoch 78/100\n",
      "100555/100555 [==============================] - 18s 182us/step - loss: 0.0137 - acc: 0.9969 - val_loss: 0.3504 - val_acc: 0.9418\n",
      "Epoch 79/100\n",
      "100555/100555 [==============================] - 18s 180us/step - loss: 0.0138 - acc: 0.9968 - val_loss: 0.3447 - val_acc: 0.9416\n",
      "Epoch 80/100\n",
      "100555/100555 [==============================] - 18s 181us/step - loss: 0.0134 - acc: 0.9970 - val_loss: 0.3522 - val_acc: 0.9418\n",
      "Epoch 81/100\n",
      "100555/100555 [==============================] - 18s 181us/step - loss: 0.0136 - acc: 0.9968 - val_loss: 0.3460 - val_acc: 0.9412\n",
      "Epoch 82/100\n",
      "100555/100555 [==============================] - 18s 182us/step - loss: 0.0136 - acc: 0.9970 - val_loss: 0.3515 - val_acc: 0.9411\n",
      "Epoch 83/100\n",
      "100555/100555 [==============================] - 18s 180us/step - loss: 0.0136 - acc: 0.9967 - val_loss: 0.3547 - val_acc: 0.9423\n",
      "Epoch 84/100\n",
      "100555/100555 [==============================] - 18s 181us/step - loss: 0.0136 - acc: 0.9969 - val_loss: 0.3540 - val_acc: 0.9424\n",
      "Epoch 85/100\n",
      "100555/100555 [==============================] - 18s 183us/step - loss: 0.0138 - acc: 0.9967 - val_loss: 0.3510 - val_acc: 0.9412\n",
      "Epoch 86/100\n",
      "100555/100555 [==============================] - 18s 181us/step - loss: 0.0134 - acc: 0.9970 - val_loss: 0.3496 - val_acc: 0.9414\n",
      "Epoch 87/100\n",
      "100555/100555 [==============================] - 18s 181us/step - loss: 0.0133 - acc: 0.9970 - val_loss: 0.3573 - val_acc: 0.9426\n",
      "Epoch 88/100\n",
      "100555/100555 [==============================] - 18s 180us/step - loss: 0.0134 - acc: 0.9968 - val_loss: 0.3511 - val_acc: 0.9421\n",
      "Epoch 89/100\n",
      "100555/100555 [==============================] - 18s 181us/step - loss: 0.0133 - acc: 0.9969 - val_loss: 0.3576 - val_acc: 0.9409\n",
      "Epoch 90/100\n",
      "100555/100555 [==============================] - 18s 181us/step - loss: 0.0136 - acc: 0.9968 - val_loss: 0.3454 - val_acc: 0.9409\n",
      "Epoch 91/100\n",
      "100555/100555 [==============================] - 18s 182us/step - loss: 0.0133 - acc: 0.9969 - val_loss: 0.3570 - val_acc: 0.9416\n",
      "Epoch 92/100\n",
      "100555/100555 [==============================] - 18s 182us/step - loss: 0.0132 - acc: 0.9969 - val_loss: 0.3569 - val_acc: 0.9416\n",
      "Epoch 93/100\n",
      "100555/100555 [==============================] - 18s 182us/step - loss: 0.0131 - acc: 0.9970 - val_loss: 0.3623 - val_acc: 0.9407\n",
      "Epoch 94/100\n",
      "100555/100555 [==============================] - 18s 182us/step - loss: 0.0134 - acc: 0.9968 - val_loss: 0.3554 - val_acc: 0.9409\n",
      "Epoch 95/100\n",
      "100555/100555 [==============================] - 18s 181us/step - loss: 0.0134 - acc: 0.9969 - val_loss: 0.3538 - val_acc: 0.9420\n",
      "Epoch 96/100\n",
      "100555/100555 [==============================] - 18s 180us/step - loss: 0.0133 - acc: 0.9969 - val_loss: 0.3561 - val_acc: 0.9429\n",
      "Epoch 97/100\n",
      "100555/100555 [==============================] - 18s 180us/step - loss: 0.0131 - acc: 0.9970 - val_loss: 0.3641 - val_acc: 0.9420\n",
      "Epoch 98/100\n",
      "100555/100555 [==============================] - 18s 180us/step - loss: 0.0131 - acc: 0.9970 - val_loss: 0.3582 - val_acc: 0.9417\n",
      "Epoch 99/100\n",
      "100555/100555 [==============================] - 18s 181us/step - loss: 0.0131 - acc: 0.9970 - val_loss: 0.3549 - val_acc: 0.9421\n",
      "Epoch 100/100\n",
      "100555/100555 [==============================] - 18s 182us/step - loss: 0.0132 - acc: 0.9970 - val_loss: 0.3562 - val_acc: 0.9413\n",
      "Took : 1804.56 (s)\n"
     ]
    }
   ],
   "source": [
    "import time\n",
    "\n",
    "time_start = time.time()\n",
    "history, model = train_fit_predict(model,\n",
    "                                   x_train[:, :MAX_TEXT_LENGTH], \n",
    "                                   x_test[:, :MAX_TEXT_LENGTH],\n",
    "                                   train_y_cat, test_cat_y,\n",
    "                                   batch_size=100, epochs=100)\n",
    "time_start = time.time() - time_start\n",
    "print(\"Took : \"+str(np.round(time_start, 2))+\" (s)\")"
   ]
  },
  {
   "cell_type": "code",
   "execution_count": 9,
   "metadata": {},
   "outputs": [
    {
     "data": {
      "text/plain": [
       "dict_keys(['val_loss', 'acc', 'val_acc', 'loss'])"
      ]
     },
     "execution_count": 9,
     "metadata": {},
     "output_type": "execute_result"
    }
   ],
   "source": [
    "history.history.keys()"
   ]
  },
  {
   "cell_type": "code",
   "execution_count": 10,
   "metadata": {},
   "outputs": [
    {
     "name": "stdout",
     "output_type": "stream",
     "text": [
      "11173/11173 [==============================] - 1s 121us/step\n"
     ]
    },
    {
     "data": {
      "text/plain": [
       "[0.35621312211346207, 0.9412870312360154]"
      ]
     },
     "execution_count": 10,
     "metadata": {},
     "output_type": "execute_result"
    }
   ],
   "source": [
    "model.evaluate(x_test[:, :MAX_TEXT_LENGTH], test_cat_y)"
   ]
  },
  {
   "cell_type": "code",
   "execution_count": 12,
   "metadata": {},
   "outputs": [
    {
     "data": {
      "text/plain": [
       "[<matplotlib.lines.Line2D at 0x7f1f159acd68>]"
      ]
     },
     "execution_count": 12,
     "metadata": {},
     "output_type": "execute_result"
    },
    {
     "data": {
      "image/png": "[encoded data removed]",
      "text/plain": [
       "<Figure size 1152x576 with 1 Axes>"
      ]
     },
     "metadata": {
      "needs_background": "light"
     },
     "output_type": "display_data"
    },
    {
     "data": {
      "image/png": "[encoded data removed]",
      "text/plain": [
       "<Figure size 1152x576 with 1 Axes>"
      ]
     },
     "metadata": {
      "needs_background": "light"
     },
     "output_type": "display_data"
    }
   ],
   "source": [
    "import matplotlib.pyplot as plt\n",
    "\n",
    "plt.figure(num=1, figsize=(16, 8))\n",
    "plt.plot(range(1, len(history.history['acc'])+1), history.history['acc'], label=\"accuracy train\")\n",
    "plt.plot(range(1, len(history.history['val_acc'])+1), history.history['val_acc'], label=\"accuracy test\")\n",
    "plt.legend()\n",
    "\n",
    "plt.figure(num=2, figsize=(16, 8))\n",
    "plt.plot(range(1, len(history.history['loss'])+1), history.history['loss'], label=\"loss\")\n",
    "plt.plot(range(1, len(history.history['val_loss'])+1), history.history['val_loss'], label=\"loss test\")"
   ]
  },
  {
   "cell_type": "code",
   "execution_count": null,
   "metadata": {},
   "outputs": [],
   "source": []
  }
 ],
 "metadata": {
  "kernelspec": {
   "display_name": "Python 3",
   "language": "python",
   "name": "python3"
  },
  "language_info": {
   "codemirror_mode": {
    "name": "ipython",
    "version": 3
   },
   "file_extension": ".py",
   "mimetype": "text/x-python",
   "name": "python",
   "nbconvert_exporter": "python",
   "pygments_lexer": "ipython3",
   "version": "3.5.3"
  }
 },
 "nbformat": 4,
 "nbformat_minor": 2
}
