{
 "cells": [
  {
   "cell_type": "code",
   "execution_count": 1,
   "metadata": {},
   "outputs": [
    {
     "name": "stderr",
     "output_type": "stream",
     "text": [
      "Using TensorFlow backend.\n"
     ]
    }
   ],
   "source": [
    "from keras.layers import Embedding, Dense, LSTM, Dropout, Input, Bidirectional\n",
    "from keras.layers import GRU, MaxPooling1D, Conv1D, Flatten\n",
    "from keras.preprocessing import text, sequence\n",
    "from keras.models import Model\n",
    "from keras.utils import np_utils\n",
    "from keras.callbacks import Callback\n",
    "\n",
    "from gensim.models.keyedvectors import KeyedVectors\n",
    "\n",
    "import pandas as pd\n",
    "import numpy as np\n",
    "\n",
    "from sklearn import preprocessing\n",
    "from sklearn.model_selection import train_test_split\n",
    "\n",
    "from utils import *"
   ]
  },
  {
   "cell_type": "code",
   "execution_count": 2,
   "metadata": {},
   "outputs": [
    {
     "name": "stdout",
     "output_type": "stream",
     "text": [
      "Dataset splited.\n",
      "Label categories: ['0' '1' '2' '3' '4']\n",
      "Converting data to trainable form...\n",
      "Number of training examples: 100555\n",
      "Number of testing examples: 11173\n"
     ]
    }
   ],
   "source": [
    "# language model\n",
    "WORD_MODEL, _, MAX_FEATURES, EMBED_SIZE = get_init_parameters('./arabic_bins/web_cbow_300')\n",
    "\n",
    "# load data\n",
    "data_paths = ['arabic_dataset_classifiction.csv']\n",
    "x_train, x_test, y_train, y_test, MAX_TEXT_LENGTH = split_datasets(data_paths, test_size=0.1)\n",
    "CLASSES_LIST = np.unique(y_train)\n",
    "print('Label categories: ' + str(CLASSES_LIST))\n",
    "\n",
    "# \n",
    "x_train, x_test, y_train, y_test, train_y_cat, word_index = class_str_2_ind(x_train, x_test, \n",
    "                                                                            y_train, y_test,\n",
    "                                                                            CLASSES_LIST, MAX_FEATURES,\n",
    "                                                                            MAX_TEXT_LENGTH)"
   ]
  },
  {
   "cell_type": "code",
   "execution_count": 3,
   "metadata": {},
   "outputs": [],
   "source": [
    "test_cat_y = np_utils.to_categorical(y_test, len(CLASSES_LIST))"
   ]
  },
  {
   "cell_type": "markdown",
   "metadata": {},
   "source": [
    "Try less timesteps"
   ]
  },
  {
   "cell_type": "code",
   "execution_count": 4,
   "metadata": {},
   "outputs": [
    {
     "data": {
      "text/plain": [
       "5049"
      ]
     },
     "execution_count": 4,
     "metadata": {},
     "output_type": "execute_result"
    }
   ],
   "source": [
    "MAX_TEXT_LENGTH"
   ]
  },
  {
   "cell_type": "code",
   "execution_count": 5,
   "metadata": {},
   "outputs": [],
   "source": [
    "# CHANGE MAX LENGTH (timesteps)\n",
    "MAX_TEXT_LENGTH = 2000"
   ]
  },
  {
   "cell_type": "code",
   "execution_count": 6,
   "metadata": {},
   "outputs": [],
   "source": [
    "def get_model(embedding_weights, word_index, vocab_dim, max_length, print_summary=True):\n",
    "    inp = Input(shape=(max_length,))\n",
    "    model = Embedding(input_dim=len(word_index)+1,\n",
    "                      output_dim=vocab_dim,\n",
    "                      trainable=False,\n",
    "                      weights=[embedding_weights])(inp)\n",
    "\n",
    "    model = Conv1D(filters=32, kernel_size=5, padding='same', activation='relu')(model)\n",
    "    model = MaxPooling1D(pool_size=2)(model)\n",
    "    model = Flatten()(model)\n",
    "    model = Dropout(0.1)(model)\n",
    "    model = Dense(200, activation='relu')(model)\n",
    "    model = Dropout(0.1)(model)\n",
    "    model = Dense(5, activation='softmax')(model)\n",
    "    model = Model(inputs=inp, outputs=model)\n",
    "    \n",
    "    model.compile(loss='categorical_crossentropy', optimizer='sgd', metrics=['accuracy'])\n",
    "    if print_summary:\n",
    "        model.summary()\n",
    "    return model\n",
    "\n",
    "\n",
    "def get_main_model(word_index, WORD_MODEL, EMBED_SIZE, MAX_TEXT_LENGTH):\n",
    "    tmp = get_embedding_matrix(word_index, WORD_MODEL, EMBED_SIZE)\n",
    "    model = get_model(tmp, word_index, EMBED_SIZE, MAX_TEXT_LENGTH, print_summary=True)\n",
    "    return model\n",
    "\n",
    "\n",
    "class TestCallback(Callback):\n",
    "    def __init__(self, test_data):\n",
    "        self.test_data = test_data\n",
    "\n",
    "    def on_epoch_end(self, epoch, logs={}):\n",
    "        x, y = self.test_data\n",
    "        loss, acc = self.model.evaluate(x, y, verbose=0)\n",
    "        print('\\nTesting loss: {}, acc: {}\\n'.format(loss, acc))\n",
    "\n",
    "def train_fit_predict(model, x_train, x_test, y_train, y_test, batch_size, epochs, TestCallback=TestCallback):\n",
    "    history = model.fit(x_train, y_train,\n",
    "                        batch_size=batch_size,\n",
    "                        epochs=epochs, verbose=1,\n",
    "                        validation_data=(x_test, y_test))\n",
    "                        #callbacks=[TestCallback((x_test, y_test))])\n",
    "    #score = model.predict(x_test)\n",
    "    #return history, score, model\n",
    "    return history, model"
   ]
  },
  {
   "cell_type": "code",
   "execution_count": 7,
   "metadata": {},
   "outputs": [
    {
     "name": "stdout",
     "output_type": "stream",
     "text": [
      "Building embedding matrix...\n",
      "Embedding matrix built.\n",
      "_________________________________________________________________\n",
      "Layer (type)                 Output Shape              Param #   \n",
      "=================================================================\n",
      "input_1 (InputLayer)         (None, 2000)              0         \n",
      "_________________________________________________________________\n",
      "embedding_1 (Embedding)      (None, 2000, 300)         121346400 \n",
      "_________________________________________________________________\n",
      "conv1d_1 (Conv1D)            (None, 2000, 32)          48032     \n",
      "_________________________________________________________________\n",
      "max_pooling1d_1 (MaxPooling1 (None, 1000, 32)          0         \n",
      "_________________________________________________________________\n",
      "flatten_1 (Flatten)          (None, 32000)             0         \n",
      "_________________________________________________________________\n",
      "dropout_1 (Dropout)          (None, 32000)             0         \n",
      "_________________________________________________________________\n",
      "dense_1 (Dense)              (None, 200)               6400200   \n",
      "_________________________________________________________________\n",
      "dropout_2 (Dropout)          (None, 200)               0         \n",
      "_________________________________________________________________\n",
      "dense_2 (Dense)              (None, 5)                 1005      \n",
      "=================================================================\n",
      "Total params: 127,795,637\n",
      "Trainable params: 6,449,237\n",
      "Non-trainable params: 121,346,400\n",
      "_________________________________________________________________\n"
     ]
    }
   ],
   "source": [
    "model = get_main_model(word_index, WORD_MODEL, EMBED_SIZE, MAX_TEXT_LENGTH)"
   ]
  },
  {
   "cell_type": "code",
   "execution_count": null,
   "metadata": {},
   "outputs": [],
   "source": [
    "del WORD_MODEL\n",
    "del word_index"
   ]
  },
  {
   "cell_type": "code",
   "execution_count": 8,
   "metadata": {
    "scrolled": true
   },
   "outputs": [
    {
     "name": "stdout",
     "output_type": "stream",
     "text": [
      "Train on 100555 samples, validate on 11173 samples\n",
      "Epoch 1/10\n",
      "100555/100555 [==============================] - 18s 180us/step - loss: 0.4047 - acc: 0.8748 - val_loss: 0.2496 - val_acc: 0.9291\n",
      "Epoch 2/10\n",
      "100555/100555 [==============================] - 17s 172us/step - loss: 0.2188 - acc: 0.9387 - val_loss: 0.2321 - val_acc: 0.9324\n",
      "Epoch 3/10\n",
      "100555/100555 [==============================] - 17s 172us/step - loss: 0.1826 - acc: 0.9491 - val_loss: 0.2208 - val_acc: 0.9366\n",
      "Epoch 4/10\n",
      "100555/100555 [==============================] - 17s 173us/step - loss: 0.1554 - acc: 0.9567 - val_loss: 0.2137 - val_acc: 0.9368\n",
      "Epoch 5/10\n",
      "100555/100555 [==============================] - 17s 173us/step - loss: 0.1329 - acc: 0.9626 - val_loss: 0.2101 - val_acc: 0.9388\n",
      "Epoch 6/10\n",
      "100555/100555 [==============================] - 17s 173us/step - loss: 0.1131 - acc: 0.9677 - val_loss: 0.2111 - val_acc: 0.9391\n",
      "Epoch 7/10\n",
      "100555/100555 [==============================] - 17s 173us/step - loss: 0.0979 - acc: 0.9720 - val_loss: 0.2209 - val_acc: 0.9348\n",
      "Epoch 8/10\n",
      "100555/100555 [==============================] - 17s 173us/step - loss: 0.0840 - acc: 0.9757 - val_loss: 0.2228 - val_acc: 0.9378\n",
      "Epoch 9/10\n",
      "100555/100555 [==============================] - 17s 173us/step - loss: 0.0729 - acc: 0.9793 - val_loss: 0.2216 - val_acc: 0.9371\n",
      "Epoch 10/10\n",
      "100555/100555 [==============================] - 17s 173us/step - loss: 0.0643 - acc: 0.9818 - val_loss: 0.2228 - val_acc: 0.9390\n",
      "Took : 174.62 (s)\n"
     ]
    }
   ],
   "source": [
    "import time\n",
    "\n",
    "time_start = time.time()\n",
    "history, model = train_fit_predict(model,\n",
    "                                   x_train[:, :MAX_TEXT_LENGTH], \n",
    "                                   x_test[:, :MAX_TEXT_LENGTH],\n",
    "                                   train_y_cat, test_cat_y,\n",
    "                                   batch_size=100, epochs=10)\n",
    "time_start = time.time() - time_start\n",
    "print(\"Took : \"+str(np.round(time_start, 2))+\" (s)\")"
   ]
  },
  {
   "cell_type": "code",
   "execution_count": 12,
   "metadata": {},
   "outputs": [
    {
     "data": {
      "text/plain": [
       "dict_keys(['loss', 'val_loss', 'val_acc', 'acc'])"
      ]
     },
     "execution_count": 12,
     "metadata": {},
     "output_type": "execute_result"
    }
   ],
   "source": [
    "history.history.keys()"
   ]
  },
  {
   "cell_type": "code",
   "execution_count": 13,
   "metadata": {},
   "outputs": [
    {
     "name": "stdout",
     "output_type": "stream",
     "text": [
      "11173/11173 [==============================] - 1s 120us/step\n"
     ]
    },
    {
     "data": {
      "text/plain": [
       "[0.22283835926217443, 0.9390494943166562]"
      ]
     },
     "execution_count": 13,
     "metadata": {},
     "output_type": "execute_result"
    }
   ],
   "source": [
    "model.evaluate(x_test[:, :MAX_TEXT_LENGTH], test_cat_y)"
   ]
  },
  {
   "cell_type": "code",
   "execution_count": 11,
   "metadata": {},
   "outputs": [
    {
     "data": {
      "text/plain": [
       "[<matplotlib.lines.Line2D at 0x7f7c635559b0>]"
      ]
     },
     "execution_count": 11,
     "metadata": {},
     "output_type": "execute_result"
    },
    {
     "data": {
      "image/png": "[encoded data removed]",
      "text/plain": [
       "<Figure size 1152x576 with 1 Axes>"
      ]
     },
     "metadata": {
      "needs_background": "light"
     },
     "output_type": "display_data"
    },
    {
     "data": {
      "image/png": "[encoded data removed]",
      "text/plain": [
       "<Figure size 1152x576 with 1 Axes>"
      ]
     },
     "metadata": {
      "needs_background": "light"
     },
     "output_type": "display_data"
    }
   ],
   "source": [
    "import matplotlib.pyplot as plt\n",
    "\n",
    "plt.figure(num=1, figsize=(16, 8))\n",
    "plt.plot(range(1, len(history.history['acc'])+1), history.history['acc'], label=\"accuracy train\")\n",
    "plt.plot(range(1, len(history.history['val_acc'])+1), history.history['val_acc'], label=\"accuracy test\")\n",
    "plt.legend()\n",
    "\n",
    "plt.figure(num=2, figsize=(16, 8))\n",
    "plt.plot(range(1, len(history.history['loss'])+1), history.history['loss'], label=\"loss\")\n",
    "plt.plot(range(1, len(history.history['val_loss'])+1), history.history['val_loss'], label=\"loss test\")"
   ]
  },
  {
   "cell_type": "code",
   "execution_count": null,
   "metadata": {},
   "outputs": [],
   "source": []
  }
 ],
 "metadata": {
  "kernelspec": {
   "display_name": "Python 3",
   "language": "python",
   "name": "python3"
  },
  "language_info": {
   "codemirror_mode": {
    "name": "ipython",
    "version": 3
   },
   "file_extension": ".py",
   "mimetype": "text/x-python",
   "name": "python",
   "nbconvert_exporter": "python",
   "pygments_lexer": "ipython3",
   "version": "3.5.3"
  }
 },
 "nbformat": 4,
 "nbformat_minor": 2
}
