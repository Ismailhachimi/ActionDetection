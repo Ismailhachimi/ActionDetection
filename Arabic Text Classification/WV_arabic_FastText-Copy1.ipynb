{
 "cells": [
  {
   "cell_type": "code",
   "execution_count": 1,
   "metadata": {
    "scrolled": true
   },
   "outputs": [
    {
     "name": "stderr",
     "output_type": "stream",
     "text": [
      "Using TensorFlow backend.\n"
     ]
    }
   ],
   "source": [
    "from keras.layers import Embedding, Dense, Dropout, Input#, LSTM, Bidirectional\n",
    "from keras.layers import MaxPooling1D, Conv1D, Flatten, LSTM\n",
    "from keras.preprocessing import sequence#, text\n",
    "from keras.models import Model\n",
    "from keras.utils import np_utils\n",
    "from keras.callbacks import Callback\n",
    "\n",
    "from gensim.models.keyedvectors import KeyedVectors\n",
    "\n",
    "from time import time\n",
    "import pandas as pd\n",
    "import numpy as np\n",
    "import matplotlib.pyplot as plt\n",
    "\n",
    "from sklearn import preprocessing\n",
    "from sklearn.model_selection import train_test_split\n",
    "from sklearn.metrics import (\n",
    "    confusion_matrix as confmat,\n",
    "    classification_report as creport\n",
    ")\n",
    "\n",
    "from utils import *\n",
    "\n",
    "np.random.seed(42)"
   ]
  },
  {
   "cell_type": "markdown",
   "metadata": {},
   "source": [
    "## Language Model and Data"
   ]
  },
  {
   "cell_type": "code",
   "execution_count": 2,
   "metadata": {},
   "outputs": [],
   "source": [
    "algo = 'sg' # or 'cbow'\n",
    "path = './arabic_bins/web_{}_300'.format(algo)\n",
    "#path = './arabic_bins/cc.ar.300.vec'"
   ]
  },
  {
   "cell_type": "code",
   "execution_count": 3,
   "metadata": {
    "scrolled": true
   },
   "outputs": [
    {
     "name": "stdout",
     "output_type": "stream",
     "text": [
      "Dataset splited.\n",
      "Label categories: ['0' '1' '2' '3' '4']\n",
      "Converting data to trainable form...\n",
      "Number of training examples: 89382\n",
      "Number of testing examples: 22346\n"
     ]
    }
   ],
   "source": [
    "# language model\n",
    "WORD_MODEL, _, MAX_FEATURES, EMBED_SIZE = get_init_parameters(path)#, ext='vec')\n",
    "\n",
    "# load data\n",
    "data_paths = ['./data/arabic_dataset_classifiction.csv']\n",
    "x_train, x_test, y_train, y_test, MAX_TEXT_LENGTH = split_datasets(data_paths, test_size=0.2, seed=42)\n",
    "CLASSES_LIST = np.unique(y_train)\n",
    "print('Label categories: ' + str(CLASSES_LIST))\n",
    "\n",
    "# \n",
    "x_train, x_test, y_train, y_test, train_y_cat, word_index = class_str_2_ind(x_train, x_test, \n",
    "                                                                            y_train, y_test,\n",
    "                                                                            CLASSES_LIST, MAX_FEATURES,\n",
    "                                                                            MAX_TEXT_LENGTH)\n",
    "test_cat_y = np_utils.to_categorical(y_test, len(CLASSES_LIST))"
   ]
  },
  {
   "cell_type": "code",
   "execution_count": 4,
   "metadata": {},
   "outputs": [
    {
     "data": {
      "image/png": "[encoded data removed]",
      "text/plain": [
       "<Figure size 720x720 with 1 Axes>"
      ]
     },
     "metadata": {},
     "output_type": "display_data"
    }
   ],
   "source": [
    "LABELS = (\n",
    "    'Culture', 'Events', 'Business', 'Politics', 'Sports'\n",
    ")\n",
    "\n",
    "tmp = np.concatenate((y_train, y_test))\n",
    "unique, counts = np.unique(tmp, return_counts=True)\n",
    "del tmp\n",
    "plt.figure(\"Target Pie\", figsize=(10, 10))\n",
    "plt.title(\"Pie plot of the class frequencies\")\n",
    "plt.pie(counts, labels=LABELS)\n",
    "plt.legend(unique)\n",
    "plt.savefig(\"./img/stats_classes.png\")\n",
    "plt.show();"
   ]
  },
  {
   "cell_type": "markdown",
   "metadata": {},
   "source": [
    "**Try less timesteps**"
   ]
  },
  {
   "cell_type": "code",
   "execution_count": 5,
   "metadata": {},
   "outputs": [
    {
     "name": "stdout",
     "output_type": "stream",
     "text": [
      "Original sequence length : 5049\n"
     ]
    }
   ],
   "source": [
    "# Sequence length\n",
    "print(\"Original sequence length : \"+str(MAX_TEXT_LENGTH))\n",
    "\n",
    "# CHANGE MAX LENGTH (timesteps)\n",
    "MAX_TEXT_LENGTH = 2000"
   ]
  },
  {
   "cell_type": "code",
   "execution_count": 6,
   "metadata": {},
   "outputs": [],
   "source": [
    "def get_model(embedding_weights, word_index, vocab_dim, max_length, print_summary=True):\n",
    "    \"\"\"\n",
    "    DOC\n",
    "    \"\"\"\n",
    "    inp = Input(shape=(max_length,))\n",
    "    model = Embedding(input_dim=len(word_index)+1,\n",
    "                      output_dim=vocab_dim,\n",
    "                      trainable=False,\n",
    "                      weights=[embedding_weights])(inp)\n",
    "    model = LSTM(units=32, return_sequences=True, return_state=False)(model)\n",
    "    model = Dropout(0.1)(model)\n",
    "    \n",
    "    model = LSTM(units=16, return_sequences=True, return_state=False)(model)\n",
    "    model = Dropout(0.1)(model)\n",
    "        \n",
    "    model = Flatten()(model)\n",
    "        \n",
    "    model = Dense(200, activation='relu')(model)\n",
    "    model = Dropout(0.1)(model)\n",
    "    \n",
    "    model = Dense(5, activation='softmax')(model)\n",
    "    model = Model(inputs=inp, outputs=model)\n",
    "    \n",
    "    model.compile(loss='categorical_crossentropy', optimizer='sgd', metrics=['accuracy'])\n",
    "    if print_summary:\n",
    "        model.summary()\n",
    "    return model\n",
    "\n",
    "\n",
    "def get_main_model(word_index, WORD_MODEL, EMBED_SIZE, MAX_TEXT_LENGTH):\n",
    "    \"\"\"\n",
    "    DOC\n",
    "    \"\"\"\n",
    "    tmp = get_embedding_matrix(word_index, WORD_MODEL, EMBED_SIZE)\n",
    "    model = get_model(tmp, word_index, EMBED_SIZE, MAX_TEXT_LENGTH, print_summary=True)\n",
    "    return model\n",
    "\n",
    "\n",
    "class TestCallback(Callback):\n",
    "    def __init__(self, test_data):\n",
    "        self.test_data = test_data\n",
    "\n",
    "    def on_epoch_end(self, epoch, logs={}):\n",
    "        x, y = self.test_data\n",
    "        loss, acc = self.model.evaluate(x, y, verbose=0)\n",
    "        print('\\nTesting loss: {}, acc: {}\\n'.format(loss, acc))\n",
    "\n",
    "def train_fit_predict(model, x_train, x_test, y_train, y_test, batch_size, epochs, TestCallback=TestCallback):\n",
    "    \"\"\"\n",
    "    DOC \n",
    "    \"\"\"\n",
    "    history = model.fit(x_train, y_train,\n",
    "                        batch_size=batch_size,\n",
    "                        epochs=epochs, verbose=1,\n",
    "                        validation_data=(x_test, y_test))#,\n",
    "                        #callbacks=[TestCallback((x_test, y_test))])\n",
    "    return history, model"
   ]
  },
  {
   "cell_type": "code",
   "execution_count": 7,
   "metadata": {},
   "outputs": [
    {
     "name": "stdout",
     "output_type": "stream",
     "text": [
      "Building embedding matrix...\n",
      "Embedding matrix built.\n",
      "_________________________________________________________________\n",
      "Layer (type)                 Output Shape              Param #   \n",
      "=================================================================\n",
      "input_1 (InputLayer)         (None, 2000)              0         \n",
      "_________________________________________________________________\n",
      "embedding_1 (Embedding)      (None, 2000, 300)         115239600 \n",
      "_________________________________________________________________\n",
      "lstm_1 (LSTM)                (None, 2000, 32)          42624     \n",
      "_________________________________________________________________\n",
      "dropout_1 (Dropout)          (None, 2000, 32)          0         \n",
      "_________________________________________________________________\n",
      "lstm_2 (LSTM)                (None, 2000, 16)          3136      \n",
      "_________________________________________________________________\n",
      "dropout_2 (Dropout)          (None, 2000, 16)          0         \n",
      "_________________________________________________________________\n",
      "flatten_1 (Flatten)          (None, 32000)             0         \n",
      "_________________________________________________________________\n",
      "dense_1 (Dense)              (None, 200)               6400200   \n",
      "_________________________________________________________________\n",
      "dropout_3 (Dropout)          (None, 200)               0         \n",
      "_________________________________________________________________\n",
      "dense_2 (Dense)              (None, 5)                 1005      \n",
      "=================================================================\n",
      "Total params: 121,686,565\n",
      "Trainable params: 6,446,965\n",
      "Non-trainable params: 115,239,600\n",
      "_________________________________________________________________\n"
     ]
    }
   ],
   "source": [
    "model = get_main_model(word_index, WORD_MODEL, EMBED_SIZE, MAX_TEXT_LENGTH)"
   ]
  },
  {
   "cell_type": "code",
   "execution_count": 8,
   "metadata": {},
   "outputs": [],
   "source": [
    "del WORD_MODEL\n",
    "del word_index"
   ]
  },
  {
   "cell_type": "markdown",
   "metadata": {},
   "source": [
    "## Start Learning"
   ]
  },
  {
   "cell_type": "code",
   "execution_count": 10,
   "metadata": {
    "scrolled": true
   },
   "outputs": [
    {
     "name": "stdout",
     "output_type": "stream",
     "text": [
      "Train on 89382 samples, validate on 22346 samples\n",
      "Epoch 1/150\n",
      "89382/89382 [==============================] - 679s 8ms/step - loss: 1.3422 - acc: 0.4401 - val_loss: 1.0036 - val_acc: 0.5820\n",
      "Epoch 2/150\n",
      "89382/89382 [==============================] - 679s 8ms/step - loss: 0.7993 - acc: 0.6905 - val_loss: 0.5856 - val_acc: 0.7988\n",
      "Epoch 3/150\n",
      "89382/89382 [==============================] - 680s 8ms/step - loss: 0.5170 - acc: 0.8186 - val_loss: 0.4611 - val_acc: 0.8292\n",
      "Epoch 4/150\n",
      "89382/89382 [==============================] - 681s 8ms/step - loss: 0.4024 - acc: 0.8676 - val_loss: 0.3619 - val_acc: 0.8846\n",
      "Epoch 5/150\n",
      "89382/89382 [==============================] - 680s 8ms/step - loss: 0.3461 - acc: 0.8904 - val_loss: 0.3335 - val_acc: 0.8954\n",
      "Epoch 6/150\n",
      "89382/89382 [==============================] - 677s 8ms/step - loss: 0.3132 - acc: 0.9009 - val_loss: 0.3058 - val_acc: 0.9093\n",
      "Epoch 7/150\n",
      "89382/89382 [==============================] - 678s 8ms/step - loss: 0.2894 - acc: 0.9095 - val_loss: 0.2829 - val_acc: 0.9113\n",
      "Epoch 8/150\n",
      "89382/89382 [==============================] - 677s 8ms/step - loss: 0.2765 - acc: 0.9137 - val_loss: 0.2681 - val_acc: 0.9156\n",
      "Epoch 9/150\n",
      "89382/89382 [==============================] - 678s 8ms/step - loss: 0.2662 - acc: 0.9174 - val_loss: 0.2576 - val_acc: 0.9185\n",
      "Epoch 10/150\n",
      "89382/89382 [==============================] - 677s 8ms/step - loss: 0.2572 - acc: 0.9197 - val_loss: 0.2599 - val_acc: 0.9199\n",
      "Epoch 11/150\n",
      "89382/89382 [==============================] - 679s 8ms/step - loss: 0.2517 - acc: 0.9214 - val_loss: 0.2458 - val_acc: 0.9237\n",
      "Epoch 12/150\n",
      "89382/89382 [==============================] - 681s 8ms/step - loss: 0.2464 - acc: 0.9224 - val_loss: 0.2394 - val_acc: 0.9264\n",
      "Epoch 13/150\n",
      "89382/89382 [==============================] - 680s 8ms/step - loss: 0.2407 - acc: 0.9248 - val_loss: 0.2348 - val_acc: 0.9275\n",
      "Epoch 14/150\n",
      "89382/89382 [==============================] - 676s 8ms/step - loss: 0.2377 - acc: 0.9256 - val_loss: 0.2316 - val_acc: 0.9295\n",
      "Epoch 15/150\n",
      "89382/89382 [==============================] - 681s 8ms/step - loss: 0.2331 - acc: 0.9269 - val_loss: 0.2328 - val_acc: 0.9274\n",
      "Epoch 16/150\n",
      "89382/89382 [==============================] - 678s 8ms/step - loss: 0.2293 - acc: 0.9286 - val_loss: 0.2276 - val_acc: 0.9305\n",
      "Epoch 17/150\n",
      "89382/89382 [==============================] - 678s 8ms/step - loss: 0.2261 - acc: 0.9292 - val_loss: 0.2257 - val_acc: 0.9297\n",
      "Epoch 18/150\n",
      "89382/89382 [==============================] - 679s 8ms/step - loss: 0.2228 - acc: 0.9305 - val_loss: 0.2243 - val_acc: 0.9300\n",
      "Epoch 19/150\n",
      "89382/89382 [==============================] - 681s 8ms/step - loss: 0.2204 - acc: 0.9308 - val_loss: 0.2185 - val_acc: 0.9322\n",
      "Epoch 20/150\n",
      "89382/89382 [==============================] - 679s 8ms/step - loss: 0.2169 - acc: 0.9317 - val_loss: 0.2163 - val_acc: 0.9327\n",
      "Epoch 21/150\n",
      "89382/89382 [==============================] - 680s 8ms/step - loss: 0.2147 - acc: 0.9329 - val_loss: 0.2233 - val_acc: 0.9298\n",
      "Epoch 22/150\n",
      "89382/89382 [==============================] - 677s 8ms/step - loss: 0.2122 - acc: 0.9336 - val_loss: 0.2175 - val_acc: 0.9324\n",
      "Epoch 23/150\n",
      "89382/89382 [==============================] - 678s 8ms/step - loss: 0.2094 - acc: 0.9340 - val_loss: 0.2098 - val_acc: 0.9345\n",
      "Epoch 24/150\n",
      "89382/89382 [==============================] - 681s 8ms/step - loss: 0.2076 - acc: 0.9355 - val_loss: 0.2113 - val_acc: 0.9331\n",
      "Epoch 25/150\n",
      "89382/89382 [==============================] - 675s 8ms/step - loss: 0.2055 - acc: 0.9354 - val_loss: 0.2057 - val_acc: 0.9356\n",
      "Epoch 26/150\n",
      "89382/89382 [==============================] - 680s 8ms/step - loss: 0.2033 - acc: 0.9366 - val_loss: 0.2097 - val_acc: 0.9341\n",
      "Epoch 27/150\n",
      "89382/89382 [==============================] - 681s 8ms/step - loss: 0.2009 - acc: 0.9372 - val_loss: 0.2055 - val_acc: 0.9356\n",
      "Epoch 28/150\n",
      "89382/89382 [==============================] - 680s 8ms/step - loss: 0.1999 - acc: 0.9374 - val_loss: 0.2022 - val_acc: 0.9361\n",
      "Epoch 29/150\n",
      "89382/89382 [==============================] - 680s 8ms/step - loss: 0.1975 - acc: 0.9381 - val_loss: 0.2055 - val_acc: 0.9359\n",
      "Epoch 30/150\n",
      "89382/89382 [==============================] - 676s 8ms/step - loss: 0.1957 - acc: 0.9393 - val_loss: 0.2056 - val_acc: 0.9360\n",
      "Epoch 31/150\n",
      "89382/89382 [==============================] - 679s 8ms/step - loss: 0.1950 - acc: 0.9388 - val_loss: 0.2000 - val_acc: 0.9369\n",
      "Epoch 32/150\n",
      "89382/89382 [==============================] - 677s 8ms/step - loss: 0.1931 - acc: 0.9395 - val_loss: 0.1995 - val_acc: 0.9379\n",
      "Epoch 33/150\n",
      "89382/89382 [==============================] - 678s 8ms/step - loss: 0.1921 - acc: 0.9395 - val_loss: 0.2005 - val_acc: 0.9369\n",
      "Epoch 34/150\n",
      "89382/89382 [==============================] - 677s 8ms/step - loss: 0.1903 - acc: 0.9403 - val_loss: 0.1980 - val_acc: 0.9377\n",
      "Epoch 35/150\n",
      "89382/89382 [==============================] - 678s 8ms/step - loss: 0.1894 - acc: 0.9400 - val_loss: 0.1967 - val_acc: 0.9369\n",
      "Epoch 36/150\n",
      "89382/89382 [==============================] - 678s 8ms/step - loss: 0.1886 - acc: 0.9405 - val_loss: 0.2003 - val_acc: 0.9371\n",
      "Epoch 37/150\n",
      "89382/89382 [==============================] - 679s 8ms/step - loss: 0.1876 - acc: 0.9410 - val_loss: 0.1941 - val_acc: 0.9385\n",
      "Epoch 38/150\n",
      "89382/89382 [==============================] - 677s 8ms/step - loss: 0.1863 - acc: 0.9414 - val_loss: 0.1966 - val_acc: 0.9379\n",
      "Epoch 39/150\n",
      "89382/89382 [==============================] - 676s 8ms/step - loss: 0.1853 - acc: 0.9411 - val_loss: 0.1921 - val_acc: 0.9394\n",
      "Epoch 40/150\n",
      "89382/89382 [==============================] - 677s 8ms/step - loss: 0.1848 - acc: 0.9420 - val_loss: 0.1931 - val_acc: 0.9393\n",
      "Epoch 41/150\n",
      "89382/89382 [==============================] - 675s 8ms/step - loss: 0.1840 - acc: 0.9417 - val_loss: 0.1901 - val_acc: 0.9394\n",
      "Epoch 42/150\n",
      "89382/89382 [==============================] - 682s 8ms/step - loss: 0.1832 - acc: 0.9426 - val_loss: 0.1908 - val_acc: 0.9391\n",
      "Epoch 43/150\n",
      "89382/89382 [==============================] - 677s 8ms/step - loss: 0.1823 - acc: 0.9424 - val_loss: 0.1903 - val_acc: 0.9406\n",
      "Epoch 44/150\n",
      "89382/89382 [==============================] - 675s 8ms/step - loss: 0.1810 - acc: 0.9430 - val_loss: 0.1919 - val_acc: 0.9403\n",
      "Epoch 45/150\n",
      "89382/89382 [==============================] - 679s 8ms/step - loss: 0.1803 - acc: 0.9434 - val_loss: 0.1882 - val_acc: 0.9406\n",
      "Epoch 46/150\n",
      "89382/89382 [==============================] - 675s 8ms/step - loss: 0.1791 - acc: 0.9438 - val_loss: 0.1889 - val_acc: 0.9412\n",
      "Epoch 47/150\n",
      "89382/89382 [==============================] - 680s 8ms/step - loss: 0.1783 - acc: 0.9437 - val_loss: 0.1941 - val_acc: 0.9393\n",
      "Epoch 48/150\n",
      "89382/89382 [==============================] - 679s 8ms/step - loss: 0.1782 - acc: 0.9437 - val_loss: 0.1891 - val_acc: 0.9401\n",
      "Epoch 49/150\n",
      "89382/89382 [==============================] - 681s 8ms/step - loss: 0.1780 - acc: 0.9441 - val_loss: 0.1861 - val_acc: 0.9415\n",
      "Epoch 50/150\n",
      "89382/89382 [==============================] - 676s 8ms/step - loss: 0.1772 - acc: 0.9443 - val_loss: 0.1847 - val_acc: 0.9409\n",
      "Epoch 51/150\n",
      "89382/89382 [==============================] - 678s 8ms/step - loss: 0.1761 - acc: 0.9448 - val_loss: 0.1850 - val_acc: 0.9412\n",
      "Epoch 52/150\n",
      "89382/89382 [==============================] - 678s 8ms/step - loss: 0.1755 - acc: 0.9444 - val_loss: 0.1849 - val_acc: 0.9416\n",
      "Epoch 53/150\n",
      "89382/89382 [==============================] - 678s 8ms/step - loss: 0.1751 - acc: 0.9448 - val_loss: 0.1874 - val_acc: 0.9403\n",
      "Epoch 54/150\n",
      "89382/89382 [==============================] - 679s 8ms/step - loss: 0.1738 - acc: 0.9448 - val_loss: 0.1833 - val_acc: 0.9412\n",
      "Epoch 55/150\n",
      "89382/89382 [==============================] - 673s 8ms/step - loss: 0.1734 - acc: 0.9451 - val_loss: 0.1862 - val_acc: 0.9412\n",
      "Epoch 56/150\n",
      "89382/89382 [==============================] - 675s 8ms/step - loss: 0.1736 - acc: 0.9453 - val_loss: 0.1900 - val_acc: 0.9395\n",
      "Epoch 57/150\n",
      "89382/89382 [==============================] - 680s 8ms/step - loss: 0.1728 - acc: 0.9457 - val_loss: 0.1863 - val_acc: 0.9408\n",
      "Epoch 58/150\n",
      "89382/89382 [==============================] - 680s 8ms/step - loss: 0.1719 - acc: 0.9462 - val_loss: 0.1832 - val_acc: 0.9430\n",
      "Epoch 59/150\n"
     ]
    },
    {
     "name": "stdout",
     "output_type": "stream",
     "text": [
      "89382/89382 [==============================] - 680s 8ms/step - loss: 0.1728 - acc: 0.9460 - val_loss: 0.1841 - val_acc: 0.9423\n",
      "Epoch 60/150\n",
      "89382/89382 [==============================] - 678s 8ms/step - loss: 0.1716 - acc: 0.9457 - val_loss: 0.1866 - val_acc: 0.9419\n",
      "Epoch 61/150\n",
      "89382/89382 [==============================] - 676s 8ms/step - loss: 0.1701 - acc: 0.9462 - val_loss: 0.1839 - val_acc: 0.9413\n",
      "Epoch 62/150\n",
      "89382/89382 [==============================] - 682s 8ms/step - loss: 0.1700 - acc: 0.9465 - val_loss: 0.1823 - val_acc: 0.9415\n",
      "Epoch 63/150\n",
      "89382/89382 [==============================] - 672s 8ms/step - loss: 0.1696 - acc: 0.9464 - val_loss: 0.1799 - val_acc: 0.9435\n",
      "Epoch 64/150\n",
      "89382/89382 [==============================] - 675s 8ms/step - loss: 0.1688 - acc: 0.9467 - val_loss: 0.1829 - val_acc: 0.9416\n",
      "Epoch 65/150\n",
      "89382/89382 [==============================] - 678s 8ms/step - loss: 0.1682 - acc: 0.9465 - val_loss: 0.1805 - val_acc: 0.9431\n",
      "Epoch 66/150\n",
      "89382/89382 [==============================] - 677s 8ms/step - loss: 0.1686 - acc: 0.9468 - val_loss: 0.1806 - val_acc: 0.9425\n",
      "Epoch 67/150\n",
      "89382/89382 [==============================] - 676s 8ms/step - loss: 0.1679 - acc: 0.9468 - val_loss: 0.1790 - val_acc: 0.9435\n",
      "Epoch 68/150\n",
      "89382/89382 [==============================] - 681s 8ms/step - loss: 0.1672 - acc: 0.9471 - val_loss: 0.1790 - val_acc: 0.9440\n",
      "Epoch 69/150\n",
      "89382/89382 [==============================] - 679s 8ms/step - loss: 0.1670 - acc: 0.9468 - val_loss: 0.1794 - val_acc: 0.9435\n",
      "Epoch 70/150\n",
      "89382/89382 [==============================] - 677s 8ms/step - loss: 0.1663 - acc: 0.9479 - val_loss: 0.1831 - val_acc: 0.9425\n",
      "Epoch 71/150\n",
      "89382/89382 [==============================] - 679s 8ms/step - loss: 0.1664 - acc: 0.9472 - val_loss: 0.1796 - val_acc: 0.9431\n",
      "Epoch 72/150\n",
      "89382/89382 [==============================] - 681s 8ms/step - loss: 0.1658 - acc: 0.9477 - val_loss: 0.1798 - val_acc: 0.9437\n",
      "Epoch 73/150\n",
      "89382/89382 [==============================] - 676s 8ms/step - loss: 0.1653 - acc: 0.9477 - val_loss: 0.1802 - val_acc: 0.9425\n",
      "Epoch 74/150\n",
      "89382/89382 [==============================] - 670s 7ms/step - loss: 0.1656 - acc: 0.9477 - val_loss: 0.1820 - val_acc: 0.9422\n",
      "Epoch 75/150\n",
      "89382/89382 [==============================] - 678s 8ms/step - loss: 0.1647 - acc: 0.9478 - val_loss: 0.1811 - val_acc: 0.9431\n",
      "Epoch 76/150\n",
      "89382/89382 [==============================] - 678s 8ms/step - loss: 0.1645 - acc: 0.9478 - val_loss: 0.1839 - val_acc: 0.9415\n",
      "Epoch 77/150\n",
      "89382/89382 [==============================] - 679s 8ms/step - loss: 0.1645 - acc: 0.9479 - val_loss: 0.1791 - val_acc: 0.9432\n",
      "Epoch 78/150\n",
      "89382/89382 [==============================] - 681s 8ms/step - loss: 0.1638 - acc: 0.9481 - val_loss: 0.1799 - val_acc: 0.9426\n",
      "Epoch 79/150\n",
      "89382/89382 [==============================] - 678s 8ms/step - loss: 0.1630 - acc: 0.9488 - val_loss: 0.1788 - val_acc: 0.9436\n",
      "Epoch 80/150\n",
      "89382/89382 [==============================] - 679s 8ms/step - loss: 0.1626 - acc: 0.9486 - val_loss: 0.1799 - val_acc: 0.9441\n",
      "Epoch 81/150\n",
      "89382/89382 [==============================] - 678s 8ms/step - loss: 0.1633 - acc: 0.9483 - val_loss: 0.1767 - val_acc: 0.9444\n",
      "Epoch 82/150\n",
      "89382/89382 [==============================] - 678s 8ms/step - loss: 0.1621 - acc: 0.9489 - val_loss: 0.1799 - val_acc: 0.9435\n",
      "Epoch 83/150\n",
      "89382/89382 [==============================] - 680s 8ms/step - loss: 0.1617 - acc: 0.9489 - val_loss: 0.1782 - val_acc: 0.9443\n",
      "Epoch 84/150\n",
      "89382/89382 [==============================] - 677s 8ms/step - loss: 0.1620 - acc: 0.9491 - val_loss: 0.1764 - val_acc: 0.9443\n",
      "Epoch 85/150\n",
      "89382/89382 [==============================] - 676s 8ms/step - loss: 0.1610 - acc: 0.9489 - val_loss: 0.1757 - val_acc: 0.9452\n",
      "Epoch 86/150\n",
      "89382/89382 [==============================] - 681s 8ms/step - loss: 0.1611 - acc: 0.9494 - val_loss: 0.1758 - val_acc: 0.9447\n",
      "Epoch 87/150\n",
      "89382/89382 [==============================] - 678s 8ms/step - loss: 0.1607 - acc: 0.9491 - val_loss: 0.1758 - val_acc: 0.9441\n",
      "Epoch 88/150\n",
      "89382/89382 [==============================] - 679s 8ms/step - loss: 0.1601 - acc: 0.9492 - val_loss: 0.1778 - val_acc: 0.9445\n",
      "Epoch 89/150\n",
      "89382/89382 [==============================] - 678s 8ms/step - loss: 0.1605 - acc: 0.9489 - val_loss: 0.1753 - val_acc: 0.9447\n",
      "Epoch 90/150\n",
      "89382/89382 [==============================] - 680s 8ms/step - loss: 0.1600 - acc: 0.9497 - val_loss: 0.1768 - val_acc: 0.9439\n",
      "Epoch 91/150\n",
      "89382/89382 [==============================] - 680s 8ms/step - loss: 0.1603 - acc: 0.9489 - val_loss: 0.1748 - val_acc: 0.9448\n",
      "Epoch 92/150\n",
      "89382/89382 [==============================] - 679s 8ms/step - loss: 0.1594 - acc: 0.9493 - val_loss: 0.1768 - val_acc: 0.9441\n",
      "Epoch 93/150\n",
      "89382/89382 [==============================] - 678s 8ms/step - loss: 0.1588 - acc: 0.9498 - val_loss: 0.1774 - val_acc: 0.9437\n",
      "Epoch 94/150\n",
      "89382/89382 [==============================] - 677s 8ms/step - loss: 0.1591 - acc: 0.9497 - val_loss: 0.1770 - val_acc: 0.9444\n",
      "Epoch 95/150\n",
      "89382/89382 [==============================] - 680s 8ms/step - loss: 0.1580 - acc: 0.9499 - val_loss: 0.1776 - val_acc: 0.9434\n",
      "Epoch 96/150\n",
      "89382/89382 [==============================] - 680s 8ms/step - loss: 0.1581 - acc: 0.9500 - val_loss: 0.1840 - val_acc: 0.9417\n",
      "Epoch 97/150\n",
      "89382/89382 [==============================] - 676s 8ms/step - loss: 0.1578 - acc: 0.9503 - val_loss: 0.1774 - val_acc: 0.9436\n",
      "Epoch 98/150\n",
      "89382/89382 [==============================] - 681s 8ms/step - loss: 0.1573 - acc: 0.9497 - val_loss: 0.1789 - val_acc: 0.9435\n",
      "Epoch 99/150\n",
      "89382/89382 [==============================] - 681s 8ms/step - loss: 0.1572 - acc: 0.9501 - val_loss: 0.1767 - val_acc: 0.9434\n",
      "Epoch 100/150\n",
      "89382/89382 [==============================] - 679s 8ms/step - loss: 0.1571 - acc: 0.9502 - val_loss: 0.1761 - val_acc: 0.9446\n",
      "Epoch 101/150\n",
      "89382/89382 [==============================] - 681s 8ms/step - loss: 0.1571 - acc: 0.9500 - val_loss: 0.1740 - val_acc: 0.9451\n",
      "Epoch 102/150\n",
      "89382/89382 [==============================] - 679s 8ms/step - loss: 0.1568 - acc: 0.9504 - val_loss: 0.1771 - val_acc: 0.9441\n",
      "Epoch 103/150\n",
      "89382/89382 [==============================] - 680s 8ms/step - loss: 0.1567 - acc: 0.9503 - val_loss: 0.1753 - val_acc: 0.9442\n",
      "Epoch 104/150\n",
      "89382/89382 [==============================] - 679s 8ms/step - loss: 0.1564 - acc: 0.9504 - val_loss: 0.1762 - val_acc: 0.9448\n",
      "Epoch 105/150\n",
      "89382/89382 [==============================] - 681s 8ms/step - loss: 0.1560 - acc: 0.9504 - val_loss: 0.1766 - val_acc: 0.9442\n",
      "Epoch 106/150\n",
      "89382/89382 [==============================] - 677s 8ms/step - loss: 0.1558 - acc: 0.9506 - val_loss: 0.1750 - val_acc: 0.9447\n",
      "Epoch 107/150\n",
      "89382/89382 [==============================] - 682s 8ms/step - loss: 0.1556 - acc: 0.9506 - val_loss: 0.1761 - val_acc: 0.9437\n",
      "Epoch 108/150\n",
      "89382/89382 [==============================] - 680s 8ms/step - loss: 0.1556 - acc: 0.9510 - val_loss: 0.1852 - val_acc: 0.9423\n",
      "Epoch 109/150\n",
      "89382/89382 [==============================] - 679s 8ms/step - loss: 0.1557 - acc: 0.9505 - val_loss: 0.1773 - val_acc: 0.9436\n",
      "Epoch 110/150\n",
      "89382/89382 [==============================] - 681s 8ms/step - loss: 0.1552 - acc: 0.9508 - val_loss: 0.1747 - val_acc: 0.9445\n",
      "Epoch 111/150\n",
      "89382/89382 [==============================] - 681s 8ms/step - loss: 0.1542 - acc: 0.9509 - val_loss: 0.1736 - val_acc: 0.9459\n",
      "Epoch 112/150\n",
      "89382/89382 [==============================] - 675s 8ms/step - loss: 0.1540 - acc: 0.9507 - val_loss: 0.1773 - val_acc: 0.9446\n",
      "Epoch 113/150\n",
      "89382/89382 [==============================] - 678s 8ms/step - loss: 0.1541 - acc: 0.9514 - val_loss: 0.1734 - val_acc: 0.9447\n",
      "Epoch 114/150\n",
      "89382/89382 [==============================] - 678s 8ms/step - loss: 0.1536 - acc: 0.9512 - val_loss: 0.1743 - val_acc: 0.9447\n",
      "Epoch 115/150\n",
      "89382/89382 [==============================] - 672s 8ms/step - loss: 0.1537 - acc: 0.9511 - val_loss: 0.1788 - val_acc: 0.9440\n",
      "Epoch 116/150\n",
      "89382/89382 [==============================] - 678s 8ms/step - loss: 0.1532 - acc: 0.9514 - val_loss: 0.1738 - val_acc: 0.9450\n",
      "Epoch 117/150\n"
     ]
    },
    {
     "name": "stdout",
     "output_type": "stream",
     "text": [
      "89382/89382 [==============================] - 677s 8ms/step - loss: 0.1532 - acc: 0.9511 - val_loss: 0.1738 - val_acc: 0.9449\n",
      "Epoch 118/150\n",
      "89382/89382 [==============================] - 680s 8ms/step - loss: 0.1534 - acc: 0.9514 - val_loss: 0.1741 - val_acc: 0.9449\n",
      "Epoch 119/150\n",
      "89382/89382 [==============================] - 677s 8ms/step - loss: 0.1528 - acc: 0.9513 - val_loss: 0.1743 - val_acc: 0.9453\n",
      "Epoch 120/150\n",
      "89382/89382 [==============================] - 677s 8ms/step - loss: 0.1523 - acc: 0.9522 - val_loss: 0.1788 - val_acc: 0.9438\n",
      "Epoch 121/150\n",
      "89382/89382 [==============================] - 677s 8ms/step - loss: 0.1525 - acc: 0.9512 - val_loss: 0.1742 - val_acc: 0.9454\n",
      "Epoch 122/150\n",
      "89382/89382 [==============================] - 680s 8ms/step - loss: 0.1520 - acc: 0.9517 - val_loss: 0.1736 - val_acc: 0.9456\n",
      "Epoch 123/150\n",
      "89382/89382 [==============================] - 678s 8ms/step - loss: 0.1520 - acc: 0.9520 - val_loss: 0.1761 - val_acc: 0.9440\n",
      "Epoch 124/150\n",
      "89382/89382 [==============================] - 679s 8ms/step - loss: 0.1512 - acc: 0.9526 - val_loss: 0.1738 - val_acc: 0.9450\n",
      "Epoch 125/150\n",
      "89382/89382 [==============================] - 683s 8ms/step - loss: 0.1519 - acc: 0.9518 - val_loss: 0.1747 - val_acc: 0.9448\n",
      "Epoch 126/150\n",
      "89382/89382 [==============================] - 680s 8ms/step - loss: 0.1514 - acc: 0.9517 - val_loss: 0.1746 - val_acc: 0.9451\n",
      "Epoch 127/150\n",
      "89382/89382 [==============================] - 676s 8ms/step - loss: 0.1506 - acc: 0.9521 - val_loss: 0.1744 - val_acc: 0.9448\n",
      "Epoch 128/150\n",
      "89382/89382 [==============================] - 680s 8ms/step - loss: 0.1510 - acc: 0.9526 - val_loss: 0.1729 - val_acc: 0.9460\n",
      "Epoch 129/150\n",
      "89382/89382 [==============================] - 679s 8ms/step - loss: 0.1507 - acc: 0.9523 - val_loss: 0.1727 - val_acc: 0.9448\n",
      "Epoch 130/150\n",
      "89382/89382 [==============================] - 677s 8ms/step - loss: 0.1502 - acc: 0.9526 - val_loss: 0.1736 - val_acc: 0.9453\n",
      "Epoch 131/150\n",
      "89382/89382 [==============================] - 675s 8ms/step - loss: 0.1497 - acc: 0.9525 - val_loss: 0.1730 - val_acc: 0.9455\n",
      "Epoch 132/150\n",
      "89382/89382 [==============================] - 682s 8ms/step - loss: 0.1508 - acc: 0.9520 - val_loss: 0.1735 - val_acc: 0.9445\n",
      "Epoch 133/150\n",
      "89382/89382 [==============================] - 677s 8ms/step - loss: 0.1497 - acc: 0.9526 - val_loss: 0.1734 - val_acc: 0.9455\n",
      "Epoch 134/150\n",
      "89382/89382 [==============================] - 677s 8ms/step - loss: 0.1496 - acc: 0.9527 - val_loss: 0.1742 - val_acc: 0.9452\n",
      "Epoch 135/150\n",
      "89382/89382 [==============================] - 673s 8ms/step - loss: 0.1498 - acc: 0.9524 - val_loss: 0.1740 - val_acc: 0.9450\n",
      "Epoch 136/150\n",
      "89382/89382 [==============================] - 678s 8ms/step - loss: 0.1493 - acc: 0.9528 - val_loss: 0.1734 - val_acc: 0.9452\n",
      "Epoch 137/150\n",
      "89382/89382 [==============================] - 681s 8ms/step - loss: 0.1483 - acc: 0.9534 - val_loss: 0.1756 - val_acc: 0.9448\n",
      "Epoch 138/150\n",
      "89382/89382 [==============================] - 679s 8ms/step - loss: 0.1484 - acc: 0.9530 - val_loss: 0.1728 - val_acc: 0.9459\n",
      "Epoch 139/150\n",
      "89382/89382 [==============================] - 677s 8ms/step - loss: 0.1485 - acc: 0.9535 - val_loss: 0.1726 - val_acc: 0.9451\n",
      "Epoch 140/150\n",
      "89382/89382 [==============================] - 677s 8ms/step - loss: 0.1486 - acc: 0.9523 - val_loss: 0.1725 - val_acc: 0.9457\n",
      "Epoch 141/150\n",
      "89382/89382 [==============================] - 680s 8ms/step - loss: 0.1482 - acc: 0.9532 - val_loss: 0.1749 - val_acc: 0.9440\n",
      "Epoch 142/150\n",
      "89382/89382 [==============================] - 678s 8ms/step - loss: 0.1481 - acc: 0.9534 - val_loss: 0.1756 - val_acc: 0.9443\n",
      "Epoch 143/150\n",
      "89382/89382 [==============================] - 679s 8ms/step - loss: 0.1479 - acc: 0.9533 - val_loss: 0.1727 - val_acc: 0.9455\n",
      "Epoch 144/150\n",
      "89382/89382 [==============================] - 679s 8ms/step - loss: 0.1478 - acc: 0.9532 - val_loss: 0.1729 - val_acc: 0.9451\n",
      "Epoch 145/150\n",
      "89382/89382 [==============================] - 676s 8ms/step - loss: 0.1484 - acc: 0.9534 - val_loss: 0.1737 - val_acc: 0.9455\n",
      "Epoch 146/150\n",
      "89382/89382 [==============================] - 676s 8ms/step - loss: 0.1470 - acc: 0.9534 - val_loss: 0.1734 - val_acc: 0.9459\n",
      "Epoch 147/150\n",
      "89382/89382 [==============================] - 672s 8ms/step - loss: 0.1463 - acc: 0.9533 - val_loss: 0.1738 - val_acc: 0.9443\n",
      "Epoch 148/150\n",
      "89382/89382 [==============================] - 677s 8ms/step - loss: 0.1470 - acc: 0.9534 - val_loss: 0.1724 - val_acc: 0.9457\n",
      "Epoch 149/150\n",
      "89382/89382 [==============================] - 682s 8ms/step - loss: 0.1469 - acc: 0.9535 - val_loss: 0.1741 - val_acc: 0.9452\n",
      "Epoch 150/150\n",
      "89382/89382 [==============================] - 680s 8ms/step - loss: 0.1465 - acc: 0.9535 - val_loss: 0.1734 - val_acc: 0.9459\n",
      "Took : 101744.54 (s)\n"
     ]
    }
   ],
   "source": [
    "time_start = time()\n",
    "history, model = train_fit_predict(model,\n",
    "                               x_train[:, :MAX_TEXT_LENGTH],\n",
    "                               x_test[:, :MAX_TEXT_LENGTH],\n",
    "                               train_y_cat, test_cat_y,\n",
    "                               batch_size=500, epochs=150)\n",
    "time_start = time() - time_start\n",
    "\n",
    "print(\"Took : \"+str(np.round(time_start, 2))+\" (s)\") "
   ]
  },
  {
   "cell_type": "code",
   "execution_count": 11,
   "metadata": {
    "scrolled": false
   },
   "outputs": [
    {
     "data": {
      "text/plain": [
       "dict_keys(['loss', 'val_loss', 'val_acc', 'acc'])"
      ]
     },
     "execution_count": 11,
     "metadata": {},
     "output_type": "execute_result"
    }
   ],
   "source": [
    "history.history.keys()"
   ]
  },
  {
   "cell_type": "code",
   "execution_count": 12,
   "metadata": {
    "scrolled": true
   },
   "outputs": [
    {
     "name": "stdout",
     "output_type": "stream",
     "text": [
      "22346/22346 [==============================] - 50s 2ms/step\n"
     ]
    },
    {
     "data": {
      "text/plain": [
       "[0.17343738219667162, 0.9458516004592764]"
      ]
     },
     "execution_count": 12,
     "metadata": {},
     "output_type": "execute_result"
    }
   ],
   "source": [
    "model.evaluate(x_test[:, :MAX_TEXT_LENGTH], test_cat_y, batch_size=1000)"
   ]
  },
  {
   "cell_type": "code",
   "execution_count": null,
   "metadata": {
    "scrolled": true
   },
   "outputs": [],
   "source": [
    "y_pred = np.argmax(model.predict(x_test[:, :MAX_TEXT_LENGTH]), axis=1)\n",
    "# y_pred = np_utils.to_categorical(np.argmax(y_pred, axis=1), len(CLASSES_LIST))\n",
    "\n",
    "cm = confmat(np.argmax(test_cat_y, axis=1), y_pred)\n",
    "\n",
    "print(\"Confusion Matrix :\\n\\n {}\\n\".format(cm))\n",
    "print(creport(np.argmax(test_cat_y, axis=1), y_pred))"
   ]
  },
  {
   "cell_type": "markdown",
   "metadata": {},
   "source": [
    "**Early Stopping**"
   ]
  },
  {
   "cell_type": "code",
   "execution_count": 13,
   "metadata": {
    "scrolled": false
   },
   "outputs": [
    {
     "name": "stdout",
     "output_type": "stream",
     "text": [
      "Optimal epoch : 147\n",
      "Accuracy on train : 95.34 %\n",
      "Accuracy on test : 94.57 %\n",
      "Loss on train : 14.7\n",
      "Loss on test : 17.24\n"
     ]
    }
   ],
   "source": [
    "n = np.argmin(history.history['val_loss'])\n",
    "\n",
    "print(\"Optimal epoch : {}\".format(n))\n",
    "print(\"Accuracy on train : {} %\".format(np.round(history.history['acc'][n]*100, 2)))\n",
    "print(\"Accuracy on test : {} %\".format(np.round(history.history['val_acc'][n]*100, 2)))\n",
    "print(\"Loss on train : {}\".format(np.round(history.history['loss'][n]*100, 2)))\n",
    "print(\"Loss on test : {}\".format(np.round(history.history['val_loss'][n]*100, 2)))"
   ]
  },
  {
   "cell_type": "code",
   "execution_count": null,
   "metadata": {},
   "outputs": [],
   "source": [
    "\"\"\"\n",
    "LSTM simple (une seule couche, ne dépasse pas  :\n",
    "\n",
    "Accuracy on train : 95.36 %\n",
    "Accuracy on test : 94.61 %\n",
    "Loss on train : 14.54\n",
    "Loss on test : 17.18\n",
    "\"\"\";"
   ]
  },
  {
   "cell_type": "code",
   "execution_count": 17,
   "metadata": {
    "scrolled": false
   },
   "outputs": [
    {
     "data": {
      "image/png": "[encoded data removed]",
      "text/plain": [
       "<Figure size 1152x576 with 1 Axes>"
      ]
     },
     "metadata": {
      "needs_background": "light"
     },
     "output_type": "display_data"
    }
   ],
   "source": [
    "plt.figure(\"Loss Plot\", figsize=(16, 8))\n",
    "plt.plot(range(1, len(history.history['loss'])+1), history.history['loss'], label=\"train loss\")\n",
    "plt.plot(range(1, len(history.history['val_loss'])+1), history.history['val_loss'], label=\"test loss\")\n",
    "plt.plot(n+1,history.history[\"val_loss\"][n],\"r*\", label=\"Lowest loss\")\n",
    "plt.legend()\n",
    "plt.title(\"Learning Curve\")\n",
    "plt.ylabel(\"loss (cross_entropy)\")\n",
    "plt.xlabel(\"epochs\")\n",
    "plt.savefig(\"./img/RNN_loss_500_2000_sg_false_150.png\")\n",
    "plt.show();"
   ]
  },
  {
   "cell_type": "code",
   "execution_count": 18,
   "metadata": {},
   "outputs": [
    {
     "data": {
      "image/png": "[encoded data removed]",
      "text/plain": [
       "<Figure size 1152x576 with 1 Axes>"
      ]
     },
     "metadata": {
      "needs_background": "light"
     },
     "output_type": "display_data"
    }
   ],
   "source": [
    "plt.figure(\"Accuracy Plot\", figsize=(16, 8))\n",
    "plt.plot(range(1, len(history.history['acc'])+1), history.history['acc'], label=\"train accuracy\")\n",
    "plt.plot(range(1, len(history.history['val_acc'])+1), history.history['val_acc'], label=\"test accuracy\")\n",
    "plt.plot(n+1,history.history[\"val_acc\"][n],\"r*\", label=\"Opt. Acc. (csp. Lowest loss)\")\n",
    "plt.legend()\n",
    "plt.title(\"Accuracy Curve\")\n",
    "plt.ylabel(\"accuracy\")\n",
    "plt.xlabel(\"epochs\")\n",
    "plt.savefig(\"./img/RNN_acc_500_2000_sg_false_150.png\")\n",
    "plt.show()"
   ]
  },
  {
   "cell_type": "markdown",
   "metadata": {},
   "source": [
    "## Save results"
   ]
  },
  {
   "cell_type": "code",
   "execution_count": 16,
   "metadata": {
    "scrolled": true
   },
   "outputs": [],
   "source": [
    "import shelve\n",
    "\n",
    "tmp = shelve.open('lstm_results')\n",
    "tmp['history'] = history.history\n",
    "tmp.close()"
   ]
  },
  {
   "cell_type": "markdown",
   "metadata": {},
   "source": [
    "## Recompute results"
   ]
  },
  {
   "cell_type": "code",
   "execution_count": 38,
   "metadata": {},
   "outputs": [],
   "source": [
    "import shelve\n",
    "\n",
    "tmp_list = []\n",
    "tmp = shelve.open('fasttext')\n",
    "for i in range(1,11):\n",
    "    histo_tmp = tmp[str(i)]\n",
    "    n = np.argmin(histo_tmp['val_loss'])\n",
    "    tmp_list.append(np.round(histo_tmp['acc'][n]*100, 2))\n",
    "tmp.close()"
   ]
  },
  {
   "cell_type": "code",
   "execution_count": 39,
   "metadata": {},
   "outputs": [
    {
     "data": {
      "text/plain": [
       "0.009165151389911407"
      ]
     },
     "execution_count": 39,
     "metadata": {},
     "output_type": "execute_result"
    }
   ],
   "source": [
    "np.std(tmp_list)"
   ]
  },
  {
   "cell_type": "code",
   "execution_count": null,
   "metadata": {},
   "outputs": [],
   "source": []
  }
 ],
 "metadata": {
  "kernelspec": {
   "display_name": "Python 3",
   "language": "python",
   "name": "python3"
  },
  "language_info": {
   "codemirror_mode": {
    "name": "ipython",
    "version": 3
   },
   "file_extension": ".py",
   "mimetype": "text/x-python",
   "name": "python",
   "nbconvert_exporter": "python",
   "pygments_lexer": "ipython3",
   "version": "3.5.3"
  }
 },
 "nbformat": 4,
 "nbformat_minor": 2
}
